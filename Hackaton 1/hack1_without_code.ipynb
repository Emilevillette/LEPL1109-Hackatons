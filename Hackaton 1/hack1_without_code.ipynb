{
 "cells": [
  {
   "cell_type": "markdown",
   "metadata": {
    "pycharm": {
     "name": "#%% md\n"
    }
   },
   "source": [
    "# Hackathon 1: descriptive statistics, estimation and bootstrapping\n",
    "\n",
    "This project illustrates the course LEPL1109 with an industrial applications of statistics. You will analyse the performance of wind farms located in the Walloon Brabant near Beauvechain and in the high Fens, close to Elsenborn. Each wind farm exploits 8 wind turbines. The kinetic power, noted Pk, (in watt) of one wind turbine is calculated with the formula \n",
    "\n",
    "Pk (W) = 0.5 x Rho x S x V^3\n",
    "\n",
    "Where \n",
    "\n",
    "S   : is the surface of the circle in square meters with a radius equal to the length of blades (32 m).\n",
    "Rho : is the air density (“masse volumique”). We consider here an average value of 1.2 kg/m^3\n",
    "V   : is the speed of wind in m/s.\n",
    "\n",
    "According to the Betz limit, only 59.3% of the kinetic energy from wind can be used to spin the turbine and generate electricity. In reality, turbines cannot reach the Betz limit, and the efficiency is estimated to 42% of the kinetic power. One wind turbine generates an electric power Pe = 0.42 x Pk. \n",
    "\n",
    "The wind turbins are stopped if the wind speed is above 90 km/h.\n",
    "\n",
    "The file “BeauvechainWind.csv” and “Elsenborn.csv” contains the average daily wind speeds, measured in km/h, at Beauvechain and  Elsenborn (source www. https://www.ecad.eu/)\n",
    "\n",
    "FILE FORMAT (MISSING VALUE CODE IS -9999):\n",
    "01-06 SOUID: Source identifier\n",
    "08-15 DATE : Date YYYYMMDD\n",
    "17-21 FG   : wind speed in 0.1 m/s\n",
    "23-27 Q_FG : Quality code for FG (0='valid'; 1='suspect'; 9='missing')\n",
    "\n",
    "\n",
    "## Report content\n",
    "\n",
    "•\tGrades are granted to the members whose names are in the Jupyter notebook. If your name doesn’t appear on the top of the notebook, you’ll get a 0, even though you are in a group on Moodle.\n",
    "\n",
    "•\tThe jupyter notebook must be compiled with printed results and next submitted via moodle. The absence of compiled results (or non-printed values) leads to a lower grade.\n",
    "\n",
    "## Report submission\n",
    "\n",
    "•\tDeadline, see moodle website. Submission after the deadline will not be accepted.\n",
    "\n",
    "•\tTo submit your report, go to the section “APP” on Moodle and the subsection “Soumission du rapport”. You can upload your work there. Once you are sure that it is your final version, click the button “Envoyer le devoir”. It is important that you don’t forget to click on this button ! \n",
    "\n",
    "•\tReports that have not been uploaded through Moodle will not be corrected.\n",
    "\n",
    "\n",
    "## Names and Noma of participants:\n",
    "\n",
    "Part. 1: Emile VILLETTE (10992000)\n",
    "\n",
    "Part. 2: Brieuc DUBOIS (23752000)\n",
    "\n",
    "Part. 3: Romain BARBASON (22142000)\n",
    "\n",
    "Part. 4: Tania SHAFIEI (17451800)\n",
    "\n",
    "Part. 5: Guillaume JADIN (10581800)\n",
    "\n",
    "Part. 6: Nicolas JEANMENNE (48741900)\n"
   ]
  },
  {
   "cell_type": "code",
   "execution_count": 27,
   "outputs": [],
   "source": [
    "import matplotlib.pyplot as plt\n",
    "import numpy as np\n",
    "import math\n",
    "import pandas as pd\n",
    "from datetime import datetime\n",
    "from scipy import stats"
   ],
   "metadata": {
    "collapsed": false,
    "pycharm": {
     "name": "#%%\n"
    }
   }
  },
  {
   "cell_type": "code",
   "execution_count": 28,
   "outputs": [],
   "source": [
    "def Pk(V):\n",
    "    return 0.5 * 1.2 * (math.pi * (32 ** 2)) * ((V / 3.6) ** 3) * 8\n",
    "\n",
    "\n",
    "def Pe(Pk):\n",
    "    return 0.42 * Pk\n",
    "\n",
    "\n",
    "def open_csv(filename):\n",
    "    return pd.read_csv(filename, parse_dates=['DATE'], skipinitialspace=True)\n",
    "\n",
    "\n",
    "def select_correct_data(data):\n",
    "    return data[(data.FG > 0) & ((data.Q_FG != 1) & (data.Q_FG != 9))]"
   ],
   "metadata": {
    "collapsed": false,
    "pycharm": {
     "name": "#%%\n"
    }
   }
  },
  {
   "cell_type": "code",
   "execution_count": 29,
   "outputs": [],
   "source": [
    "df_be = select_correct_data(open_csv('Beauvechain.csv'))\n",
    "df_el = select_correct_data(open_csv('Elsenborn.csv'))\n",
    "df_be = df_be[(datetime(2017, 1, 1) <= df_be['DATE']) & (df_be['DATE'] <= datetime(2021, 1, 1))]\n",
    "df_el = df_el[(datetime(2017, 1, 1) <= df_el['DATE']) & (df_el['DATE'] <= datetime(2021, 1, 1))]\n",
    "cdv = np.intersect1d(df_be['DATE'].values, df_el['DATE'].values)\n",
    "df_be = df_be[df_be['DATE'].isin(cdv)]\n",
    "df_el = df_el[df_el['DATE'].isin(cdv)]"
   ],
   "metadata": {
    "collapsed": false,
    "pycharm": {
     "name": "#%%\n"
    }
   }
  },
  {
   "cell_type": "markdown",
   "source": [
    "------------------------------------------------------------------------------------------------------\n",
    "1.\tWrite a function computing the electric power capacity (in Mega Watts = 10^6 W), for the two wind farms using wind data from the 1/1/2017 to the 1/1/2021\n",
    "\n",
    "•\tDo not forget to set the production to zero if the wind speed is above 90 km. \n",
    "\n",
    "•\tTake care to converts units.\n",
    "\n",
    "•\tRemove all days with missing data (error code 1 or 9) for Beauvechain or Elsenborn\n",
    "\n",
    "------------------------------------------------------------------------------------------------------"
   ],
   "metadata": {
    "collapsed": false,
    "pycharm": {
     "name": "#%% md\n"
    }
   }
  },
  {
   "cell_type": "code",
   "execution_count": 30,
   "outputs": [],
   "source": [
    "df_be['PowerCapacity'] = Pe(Pk(df_be['FG'])) * (10) ** -6\n",
    "df_el['PowerCapacity'] = Pe(Pk(df_el['FG'])) * (10) ** -6"
   ],
   "metadata": {
    "collapsed": false,
    "pycharm": {
     "name": "#%%\n"
    }
   }
  },
  {
   "cell_type": "code",
   "execution_count": 31,
   "outputs": [],
   "source": [
    "df_be.loc[df_be['FG'] >= 90, 'PowerCapacity'] = 0\n",
    "df_el.loc[df_el['FG'] >= 90, 'PowerCapacity'] = 0"
   ],
   "metadata": {
    "collapsed": false,
    "pycharm": {
     "name": "#%%\n"
    }
   }
  },
  {
   "cell_type": "code",
   "execution_count": 32,
   "outputs": [
    {
     "data": {
      "text/plain": "            Beauvechain power capacity  Elsenborn power capacity\nDATE                                                            \n2017-01-01                   23.127086                  0.810682\n2017-01-02                    3.390212                  2.736051\n2017-01-03                   21.888406                  9.580417\n2017-01-04                   19.545325                 33.128969\n2017-01-05                    1.691283                  5.463483\n...                                ...                       ...\n2020-12-28                    2.443166                  4.141121\n2020-12-29                    5.959873                  2.736051\n2020-12-30                    7.041060                  2.736051\n2020-12-31                    0.469145                  1.921616\n2021-01-01                    1.921616                  0.381432\n\n[1414 rows x 2 columns]",
      "text/html": "<div>\n<style scoped>\n    .dataframe tbody tr th:only-of-type {\n        vertical-align: middle;\n    }\n\n    .dataframe tbody tr th {\n        vertical-align: top;\n    }\n\n    .dataframe thead th {\n        text-align: right;\n    }\n</style>\n<table border=\"1\" class=\"dataframe\">\n  <thead>\n    <tr style=\"text-align: right;\">\n      <th></th>\n      <th>Beauvechain power capacity</th>\n      <th>Elsenborn power capacity</th>\n    </tr>\n    <tr>\n      <th>DATE</th>\n      <th></th>\n      <th></th>\n    </tr>\n  </thead>\n  <tbody>\n    <tr>\n      <th>2017-01-01</th>\n      <td>23.127086</td>\n      <td>0.810682</td>\n    </tr>\n    <tr>\n      <th>2017-01-02</th>\n      <td>3.390212</td>\n      <td>2.736051</td>\n    </tr>\n    <tr>\n      <th>2017-01-03</th>\n      <td>21.888406</td>\n      <td>9.580417</td>\n    </tr>\n    <tr>\n      <th>2017-01-04</th>\n      <td>19.545325</td>\n      <td>33.128969</td>\n    </tr>\n    <tr>\n      <th>2017-01-05</th>\n      <td>1.691283</td>\n      <td>5.463483</td>\n    </tr>\n    <tr>\n      <th>...</th>\n      <td>...</td>\n      <td>...</td>\n    </tr>\n    <tr>\n      <th>2020-12-28</th>\n      <td>2.443166</td>\n      <td>4.141121</td>\n    </tr>\n    <tr>\n      <th>2020-12-29</th>\n      <td>5.959873</td>\n      <td>2.736051</td>\n    </tr>\n    <tr>\n      <th>2020-12-30</th>\n      <td>7.041060</td>\n      <td>2.736051</td>\n    </tr>\n    <tr>\n      <th>2020-12-31</th>\n      <td>0.469145</td>\n      <td>1.921616</td>\n    </tr>\n    <tr>\n      <th>2021-01-01</th>\n      <td>1.921616</td>\n      <td>0.381432</td>\n    </tr>\n  </tbody>\n</table>\n<p>1414 rows × 2 columns</p>\n</div>"
     },
     "execution_count": 32,
     "metadata": {},
     "output_type": "execute_result"
    }
   ],
   "source": [
    "df_pcd = df_be.set_index('DATE')[['PowerCapacity']].join(df_el.set_index('DATE')[['PowerCapacity']], lsuffix='_be',\n",
    "                                                         rsuffix='_el')\n",
    "df_pcd.columns = ['Beauvechain power capacity', 'Elsenborn power capacity']\n",
    "df_pcd"
   ],
   "metadata": {
    "collapsed": false,
    "pycharm": {
     "name": "#%%\n"
    }
   }
  },
  {
   "cell_type": "markdown",
   "source": [
    "Comment briefly your results:\n",
    "To obtain these results, we used the Pandas Python library to generate a dataframe that is easy to work with. It contains the days that produced results for both wind farms. The table here-above is pretty self-explanatory and simply presents the data that we obtained after filtering out invalid measurements."
   ],
   "metadata": {
    "collapsed": false,
    "pycharm": {
     "name": "#%% md\n"
    }
   }
  },
  {
   "cell_type": "markdown",
   "source": [
    "------------------------------------------------------------------------------------------------------------------------\n",
    "\n",
    "2.\tPlot histograms and box plots of electric power capacity (MW) from the 1/1/2017 to the 1/1/2021 (both sites). \n",
    "\n",
    "------------------------------------------------------------------------------------------------------------------------"
   ],
   "metadata": {
    "collapsed": false,
    "pycharm": {
     "name": "#%% md\n"
    }
   }
  },
  {
   "cell_type": "code",
   "execution_count": 33,
   "outputs": [
    {
     "data": {
      "text/plain": "<Figure size 1000x300 with 1 Axes>",
      "image/png": "[encoded data removed]"
     },
     "metadata": {},
     "output_type": "display_data"
    },
    {
     "data": {
      "text/plain": "<Figure size 1000x300 with 1 Axes>",
      "image/png": "[encoded data removed]"
     },
     "metadata": {},
     "output_type": "display_data"
    },
    {
     "data": {
      "text/plain": "<Figure size 1000x300 with 1 Axes>",
      "image/png": "[encoded data removed]"
     },
     "metadata": {},
     "output_type": "display_data"
    }
   ],
   "source": [
    "#histogram of electric power capacities in the given periode\n",
    "def q2_histogram(df, title=''):\n",
    "    df_pcc = df.groupby(df['PowerCapacity'].round())['FG'].count()\n",
    "    plt.figure(figsize=(10, 3))\n",
    "    plt.title(title)\n",
    "    plt.bar(df_pcc.index, df_pcc.values / df_pcc.sum())\n",
    "    plt.ylabel('Rate')\n",
    "    plt.xlabel('Power (MW)')\n",
    "\n",
    "\n",
    "def q2_boxplot(df, df2, title='', ticks='', labels=''):\n",
    "    plt.figure(figsize=(10, 3))\n",
    "    plt.title(title)\n",
    "    plt.boxplot([df['PowerCapacity'], df2['PowerCapacity']], showfliers=False)\n",
    "    plt.xticks(ticks=ticks, labels=labels)\n",
    "    plt.ylabel('Power (MW)')\n",
    "    plt.xlabel('Date')\n",
    "\n",
    "\n",
    "q2_histogram(df_be, title='Beauvechain')\n",
    "q2_histogram(df_el, title='Elsenborn')\n",
    "q2_boxplot(df_be, df_el, title='Beauvechain - Elsenborn', ticks=(1, 2), labels=('Beauvechain', 'Elsenborn'))"
   ],
   "metadata": {
    "collapsed": false,
    "pycharm": {
     "name": "#%%\n"
    }
   }
  },
  {
   "cell_type": "markdown",
   "source": [
    "With an approximate interpretation of the obtained graphs, we can observe that the Beauvechain wind farm seems to have a higher rolling average than the Elsenborn wind farm. The box plot helps to illustrate this tendency, where the median and upper quartiles are higher in Beauvechain than in Elsenborn.\n",
    "Overall, we observe that the spikes and dips in power production appear to be \"synced up\" between the two farms, which is a coherent given their geographical proximity (approx. 110 km)."
   ],
   "metadata": {
    "collapsed": false,
    "pycharm": {
     "name": "#%% md\n"
    }
   }
  },
  {
   "cell_type": "markdown",
   "source": [
    "------------------------------------------------------------------------------------------------------\n",
    "\n",
    "3.\tCompare the following statistics of both sites and draw a first conclusions\n",
    "\n",
    "•\tAverage and median powers for each farm (MW)\n",
    "\n",
    "•\tStandard deviations of powers, for each farm (MW)\n",
    "\n",
    "•\t5% and 95% percentiles of powers, for each farm (MW)\n",
    "\n",
    "The average and standard deviation of the total power capacities (Beauvechain + Elsenborn).\n",
    "\n",
    "------------------------------------------------------------------------------------------------------"
   ],
   "metadata": {
    "collapsed": false,
    "pycharm": {
     "name": "#%% md\n"
    }
   }
  },
  {
   "cell_type": "code",
   "execution_count": 34,
   "outputs": [
    {
     "name": "stdout",
     "output_type": "stream",
     "text": [
      "Beauvechain farm:\n",
      " - Average power: 12.60 MW\n",
      " - Median power: 5.00 MW\n",
      " - Standard deviation: 17.84 MW\n",
      " - Percentile 5: 0.24 MW\n",
      " - Percentile 95: 54.08 MW\n",
      "\n",
      "Elsenborn farm:\n",
      " - Average power: 5.65 MW\n",
      " - Median power: 1.92 MW\n",
      " - Standard deviation: 9.77 MW\n",
      " - Percentile 5: 0.10 MW\n",
      " - Percentile 95: 23.13 MW\n",
      "\n",
      "Both farm:\n",
      " - Average power: 18.25 MW\n",
      " - Median power: 7.67 MW\n",
      " - Standard deviation: 24.40 MW\n",
      " - Percentile 5: 0.64 MW\n",
      " - Percentile 95: 76.15 MW\n"
     ]
    }
   ],
   "source": [
    "def q3(df, name=\"\"):\n",
    "    print(f\"{name} farm:\")\n",
    "    print(f\" - Average power: {df['PowerCapacity'].mean():.2f} MW\")\n",
    "    print(f\" - Median power: {df['PowerCapacity'].median():.2f} MW\")\n",
    "    print(f\" - Standard deviation: {df['PowerCapacity'].std():.2f} MW\")\n",
    "    print(f\" - Percentile 5: {np.percentile(df['PowerCapacity'], 5):.2f} MW\")\n",
    "    print(f\" - Percentile 95: {np.percentile(df['PowerCapacity'], 95):.2f} MW\")\n",
    "\n",
    "\n",
    "q3(df_be, \"Beauvechain\")\n",
    "print()\n",
    "q3(df_el, \"Elsenborn\")\n",
    "print()\n",
    "dfc = df_be.copy()\n",
    "dfc['PowerCapacity'] += df_el['PowerCapacity'].values\n",
    "q3(dfc, \"Both\")"
   ],
   "metadata": {
    "collapsed": false,
    "pycharm": {
     "name": "#%%\n"
    }
   }
  },
  {
   "cell_type": "markdown",
   "source": [
    "We can observe that Beauvechain has a higher average, median, standard deviation and percentiles(5 and 95) than Elsenborn.\n",
    "This is coherent with the previous question's results where Beauvechain shows a higher overal production than Elsenborn.\n",
    "The aggregated results for both farms are also consistent with the ones for each farm."
   ],
   "metadata": {
    "collapsed": false,
    "pycharm": {
     "name": "#%% md\n"
    }
   }
  },
  {
   "cell_type": "markdown",
   "source": [
    "\n",
    "------------------------------------------------------------------------------------------------------\n",
    "4.\tFit Gamma and Inverse Gaussian distributions to wind speeds (in Km/h) in Beauvechain and Elsenborn. Estimate their parameters by log-likelihood maximization (MLE). Which distribution is the best one? Compare the histograms of winds with the fitted pdf’s on the same plot.\n",
    "------------------------------------------------------------------------------------------------------"
   ],
   "metadata": {
    "collapsed": false,
    "pycharm": {
     "name": "#%% md\n"
    }
   }
  },
  {
   "cell_type": "code",
   "execution_count": null,
   "outputs": [
    {
     "name": "stdout",
     "output_type": "stream",
     "text": [
      "Log-likelihood maximization:\n",
      "\n",
      " Beauvechain:\n",
      " - Gamma: -6063.220\n",
      " - Invgauss: -6069.737\n",
      "\n",
      " Elsenborn:\n",
      " - Gamma: -5632.210\n",
      " - Invgauss: -5640.097\n",
      "\n",
      "Average MLE of each dataset:\n",
      " - Gamma: -5847.71499\n",
      " - Invgauss: -5854.91723\n"
     ]
    },
    {
     "data": {
      "text/plain": "<Figure size 1000x300 with 1 Axes>",
      "image/png": "[encoded data removed]"
     },
     "metadata": {},
     "output_type": "display_data"
    }
   ],
   "source": [
    "dists = [stats.gamma, stats.invgauss]\n",
    "\n",
    "\n",
    "def q4(df, *fcts, title=''):\n",
    "    df_fgc = df.groupby(['FG'])['PowerCapacity'].count()\n",
    "\n",
    "    plt.figure(figsize=(10, 3))\n",
    "    plt.title(title)\n",
    "    plt.xlabel('Wind speed (km/h)')\n",
    "    plt.ylabel('Rate')\n",
    "    plt.bar(df_fgc.index, df_fgc.values / df_fgc.sum())\n",
    "\n",
    "    aparams = {}\n",
    "\n",
    "    print(f' {title.capitalize()}:')\n",
    "\n",
    "    mle = [0, 0]\n",
    "    for i, fct in enumerate(fcts):\n",
    "        X = np.linspace(df['FG'].min(), df['FG'].max(), 1000)\n",
    "        params = fct.fit(df['FG'].values)\n",
    "        pdf = fct.pdf(X, *params)\n",
    "\n",
    "        mle[i] = sum(fct.logpdf(df['FG'], *params))\n",
    "\n",
    "        print(f' - {fct.name.capitalize()}: {mle[i]:.3f}')\n",
    "\n",
    "        aparams[fct] = params\n",
    "\n",
    "        plt.plot(X, pdf, label=fct.name.capitalize())\n",
    "    plt.legend()\n",
    "\n",
    "    return aparams, mle\n",
    "\n",
    "\n",
    "print('Log-likelihood maximization:\\n')\n",
    "be_params, be_mle = q4(df_be, *dists, title='Beauvechain')\n",
    "print()\n",
    "el_params, el_mle = q4(df_el, *dists, title='Elsenborn')\n",
    "\n",
    "print('\\nAverage MLE of each dataset:')\n",
    "print(f' - {dists[0].name.capitalize()}: {(np.sum([be_mle[0], el_mle[0]]) / 2):.5f}')\n",
    "print(f' - {dists[1].name.capitalize()}: {(np.sum([be_mle[1], el_mle[1]]) / 2):.5f}')"
   ],
   "metadata": {
    "collapsed": false,
    "pycharm": {
     "name": "#%%\n",
     "is_executing": true
    }
   }
  },
  {
   "cell_type": "markdown",
   "source": [
    "Both the gamma and the inverse Gaussian fit the data.\n",
    "But the Gamma distribution has a slightly best mle in our both datasets."
   ],
   "metadata": {
    "collapsed": false,
    "pycharm": {
     "name": "#%% md\n"
    }
   }
  },
  {
   "cell_type": "markdown",
   "source": [
    "------------------------------------------------------------------------------------------------------\n",
    "5.\tCompute numerically for both sites, the following statistics \n",
    "\n",
    "•\tExpected and median powers for each farm (MW)\n",
    "\n",
    "•\tStandard deviation of powers for each farm (MW)\n",
    "\n",
    "•\t5% and 95% percentiles of powers for each farm (MW)\n",
    "\n",
    "Use the best distributions fitted in Question 4 (not observed values)\n",
    "\n",
    "------------------------------------------------------------------------------------------------------"
   ],
   "metadata": {
    "collapsed": false,
    "pycharm": {
     "name": "#%% md\n"
    }
   }
  },
  {
   "cell_type": "code",
   "execution_count": null,
   "outputs": [],
   "source": [
    "best_fct = stats.gamma\n",
    "\n",
    "\n",
    "def q5(fct, params, name=\"\"):\n",
    "    sample_ws = fct.rvs(*params, 1000000)\n",
    "    sample_pw = Pe(Pk(sample_ws)) * 10 ** -6\n",
    "    sample_pw[sample_ws >= 90] = 0\n",
    "\n",
    "    print(f\"{name} farm:\")\n",
    "    print(f\" - Theorical average power: {sample_pw.mean():.2f} MW\")\n",
    "    print(f\" - Theorical median power: {np.median(sample_pw):.2f} MW\")\n",
    "    print(f\" - Theorical standard deviation: {np.std(sample_pw):.2f} MW\")\n",
    "    print(f\" - Theorical percentile 5: {np.percentile(sample_pw, 5):.2f} MW\")\n",
    "    print(f\" - Theorical percentile 95: {np.percentile(sample_pw, 95):.2f} MW\")\n",
    "\n",
    "    return sample_pw\n",
    "\n",
    "\n",
    "_ = q5(best_fct, be_params[best_fct], \"Beauvechain\")\n",
    "print()\n",
    "_ = q5(best_fct, el_params[best_fct], \"Elsenborn\")"
   ],
   "metadata": {
    "collapsed": false,
    "pycharm": {
     "name": "#%%\n",
     "is_executing": true
    }
   }
  },
  {
   "cell_type": "markdown",
   "source": [
    "Comment briefly your results\n",
    "\n",
    "The results we observe are similar to the results in Q3. To obtain these results, we sample 1.000.000 points from the gamma distribution in Q4 and compute the average, median, standard deviation and percentiles from that."
   ],
   "metadata": {
    "collapsed": false,
    "pycharm": {
     "name": "#%% md\n"
    }
   }
  },
  {
   "cell_type": "markdown",
   "source": [
    "------------------------------------------------------------------------------------------------------\n",
    "\n",
    "6.\tSame question as Q.4 but this time, you fit the best distribution by the methods of moments MM, (in Python). Compare parameter estimates and plot pdf’s obtained by MLE and MM for both wind farms.\n",
    "\n",
    "------------------------------------------------------------------------------------------------------"
   ],
   "metadata": {
    "collapsed": false,
    "pycharm": {
     "name": "#%% md\n"
    }
   }
  },
  {
   "cell_type": "code",
   "execution_count": null,
   "outputs": [],
   "source": [
    "#code here\n",
    "def sample_moment(sample, n):\n",
    "    sm = np.sum([nb ** n for nb in sample])\n",
    "    lgt = len(sample)\n",
    "    return 1 / lgt * sm\n",
    "\n",
    "\n",
    "def estimate(sample):\n",
    "    first_moment = sample_moment(sample, 1)\n",
    "    second_moment = sample_moment(sample, 2)\n",
    "    k = first_moment ** 2 / (second_moment - first_moment ** 2)\n",
    "    theta = second_moment / first_moment - first_moment\n",
    "    return k, theta\n",
    "\n",
    "\n",
    "def q6(df, title=''):\n",
    "    df_fgc = df.groupby(['FG'])['PowerCapacity'].count()\n",
    "    X = np.linspace(df[\"FG\"].min(), df[\"FG\"].max(), 1000)\n",
    "\n",
    "    #method of moments\n",
    "    k_chapeau, theta_chapeau = estimate(df[\"FG\"].values)\n",
    "    y_mm = stats.gamma.pdf(x=X, a=k_chapeau, scale=theta_chapeau)\n",
    "    mm = sum(stats.gamma.logpdf(df['FG'], a=k_chapeau, scale=theta_chapeau))\n",
    "    #mle[i] = sum(fct.logpdf(df['FG'], *params))\n",
    "\n",
    "    #MLE method\n",
    "    params = stats.gamma.fit(df['FG'].values)\n",
    "    y_mle = stats.gamma.pdf(X, *params)\n",
    "    mle = sum(stats.gamma.logpdf(df['FG'], *params))\n",
    "\n",
    "    plt.figure(figsize=(10, 4))\n",
    "    plt.title(title)\n",
    "    plt.xlabel('Wind speed (km/h)')\n",
    "    plt.ylabel('Rate')\n",
    "    plt.bar(df_fgc.index, df_fgc.values / df_fgc.sum())\n",
    "    plt.plot(X, y_mle, color=\"red\", label=\"MLE estimation\")\n",
    "    plt.plot(X, y_mm, color='green', label=\"MM estimation\")\n",
    "    plt.legend()\n",
    "    return mle, mm\n",
    "\n",
    "\n",
    "mle_be, mm_be = q6(df_be, title=\"Beauvechain method of moments\")\n",
    "mle_el, mm_el = q6(df_el, title=\"Elsenborn method of moments\")\n",
    "print(\"Parameters:\")\n",
    "print(f\" - Methods of Moments (MM): {np.sum([mm_be, mm_el]) / 2:.3f}\")\n",
    "print(f\" - Log-likelihood Maximization (MLE): {np.sum([mle_be, mle_el]) / 2:.3f}\")"
   ],
   "metadata": {
    "collapsed": false,
    "pycharm": {
     "name": "#%%\n",
     "is_executing": true
    }
   }
  },
  {
   "cell_type": "markdown",
   "source": [
    "The above calculations allow us to determine that the two approximations are almost alike. We chose the approximation of the MLE because it is the one that seems to us the best fit to our data according to the error computation"
   ],
   "metadata": {
    "collapsed": false,
    "pycharm": {
     "name": "#%% md\n"
    }
   }
  },
  {
   "cell_type": "markdown",
   "source": [
    "------------------------------------------------------------------------------------------------------\n",
    "\n",
    "7.\tBootstrap 1000 times a sample of 500 daily speeds of wind for both wind farms and compute a 5% confidence interval for parameter(s) estimates for the best distribution of Question 4) modelling winds in Beauvechain. How do you interpret the results\n",
    "\n",
    "------------------------------------------------------------------------------------------------------"
   ],
   "metadata": {
    "collapsed": false,
    "pycharm": {
     "name": "#%% md\n"
    }
   }
  },
  {
   "cell_type": "code",
   "execution_count": null,
   "outputs": [],
   "source": [
    "from scipy.stats import gamma\n",
    "import random as rn\n",
    "\n",
    "\n",
    "def log_likelihood_gam(data, alpha, beta):\n",
    "    retval = 0\n",
    "    for x in data:\n",
    "        retval += np.log(gamma.pdf(x, a=alpha, scale=beta))\n",
    "    return retval\n",
    "\n",
    "\n",
    "def q7(df, title=\"\"):\n",
    "    speed_wind_be = df['FG'].values\n",
    "    params_be = {'beta': [], 'alpha': []}\n",
    "\n",
    "    for m in np.arange(0, 1000):\n",
    "        drand_be = rn.choices(population=speed_wind_be, k=500)\n",
    "        gamm_be = gamma.fit(data=drand_be, scale=1, floc=0)\n",
    "\n",
    "        params_be['alpha'].append(gamm_be[0])\n",
    "        params_be['beta'].append(gamm_be[2])\n",
    "\n",
    "    alpha_be = (np.quantile(params_be['alpha'], q=0.025), np.quantile(params_be['alpha'], q=0.975))\n",
    "    beta_be = (np.quantile(params_be['beta'], q=0.025), np.quantile(params_be['beta'], q=0.975))\n",
    "\n",
    "    print(f\"{title}:\")\n",
    "    print(f\" - Alpha confidence interval 5%: [{alpha_be[0]:.3f} ; {alpha_be[1]:.3f}]\")\n",
    "    print(f\" - Beta confidence interval 5%: [{beta_be[0]:.3f} ; {beta_be[1]:.3f}]\")\n",
    "\n",
    "\n",
    "\n",
    "\n",
    "q7(df_be, title=\"Beauchevain\")\n",
    "q7(df_el, title=\"Elsenborn\")"
   ],
   "metadata": {
    "collapsed": false,
    "pycharm": {
     "is_executing": true
    }
   }
  },
  {
   "cell_type": "markdown",
   "source": [
    "How do you interpret the results ?\n",
    "\n",
    "This indicates that any readings outside of the confidence interval can reasonably be rejected as invalid, because they are very unlikely to be correct"
   ],
   "metadata": {
    "collapsed": false,
    "pycharm": {
     "name": "#%% md\n"
    }
   }
  },
  {
   "cell_type": "markdown",
   "source": [
    "------------------------------------------------------------------------------------------------------\n",
    "\n",
    "8.\tLet us denote by X the wind speed observed at Beauvechain on a day of the year. The winds observed over 30 days are denoted by (X1,…,X30). They are realizations of X, a random variable with the distribution fitted in Question 4. If M=max{ X1,…,X30},  \n",
    "\n",
    "•\tfind the statistical law of M (equation requested, hint use the cdf of X) \n",
    "\n",
    "•\tplot the pdf and cdf of M. \n",
    "\n",
    "•\tDetermine the wind value, p5, such that  P(M>p5)=95%.\n",
    "\n",
    "\n",
    "------------------------------------------------------------------------------------------------------"
   ],
   "metadata": {
    "collapsed": false,
    "pycharm": {
     "name": "#%% md\n"
    }
   }
  },
  {
   "cell_type": "markdown",
   "source": [
    "We can obtain the distribution of $M=max\\{X_1,X_2,...,X_n\\}$ from $F_X(x)$. Id est $F_n(y) = P[(X_1 \\leq y) \\cap (X_1 \\leq y) \\cap ... \\cap (X_n \\leq y)] = \\{ F_X(y) \\}^n$\n",
    "Doing so gives us the following plots:"
   ],
   "metadata": {
    "collapsed": false
   }
  },
  {
   "cell_type": "code",
   "execution_count": null,
   "outputs": [],
   "source": [
    "def q8_calculate_cdf(y):\n",
    "    y_no_null = y[~y.isnull()]\n",
    "    X = np.linspace(y_no_null.values.min(), y_no_null.values.max(), 1000)\n",
    "    params = stats.gamma.fit(y_no_null.values)\n",
    "    cdf = stats.gamma.cdf(X, *params) ** 30\n",
    "    return X, y, cdf, params\n",
    "\n",
    "\n",
    "def q8_plot_cdf(X, y, cdf, params):\n",
    "    plt.figure(figsize=(10, 3))\n",
    "    plt.title(\"M Gamma CDF\")\n",
    "    plt.xlabel('Wind speed (km/h)')\n",
    "    plt.ylabel('Rate')\n",
    "    plt.plot(X, cdf, color='green', label=\"cdf\")\n",
    "\n",
    "\n",
    "res = q8_calculate_cdf(df_be['FG'])\n",
    "q8_plot_cdf(*res)\n",
    "\n",
    "\n",
    "def q8_plot_pdf(X, y, pdf, params):\n",
    "    plt.figure(figsize=(10, 3))\n",
    "    plt.title(\"M Gamma PDF\")\n",
    "    plt.xlabel('Wind speed (km/h)')\n",
    "    plt.ylabel('Rate')\n",
    "    X = np.linspace(pdf.min(), pdf.max(), 999)\n",
    "    plt.plot(X, np.diff(pdf), color='green', label=\"pdf\")\n",
    "\n",
    "\n",
    "q8_plot_pdf(*res)\n",
    "\n",
    "\n",
    "def q8_plot_ppf(X, y, ppf):\n",
    "    plt.figure(figsize=(10, 3))\n",
    "    plt.title(\"Gamma PPF at percentile 5\")\n",
    "    plt.xlabel('Wind speed (km/h)')\n",
    "    plt.ylabel('Rate')\n",
    "    plt.plot(X, ppf, color='green', label=\"ppf\")\n",
    "    plt.hist(y, bins=int(y.max() - y.min() + 1), density=True)\n",
    "\n",
    "\n",
    "print(f\"Valeur percentile 95 (numpy): {np.percentile(np.diff(res[2]), 95)}\")\n",
    "print(f\"Valeur percentile 95 (scipy) : {stats.scoreatpercentile(a=np.diff(res[2]), per=[95])}\")\n",
    "print(f\"Valeur percentile 100 (numpy) : {np.percentile(np.diff(res[2]), 100)}\")\n",
    "print(f\"Valeur percentile 100 (scipy) : {stats.scoreatpercentile(a=np.diff(res[2]), per=[100])}\")\n",
    "print(\"===============================\")\n",
    "print(f\"P(M>95%) : {np.sum(stats.scoreatpercentile(a=np.diff(res[2]), per=[x for x in range(95, 101)]))}\")\n",
    "print(\n",
    "    f\"P(M>p5) = 95% <=> p5 = {stats.percentileofscore(a=np.diff(res[2]), score=(np.percentile(np.diff(res[2]), 100) / 100) * 95, kind='weak')}\")"
   ],
   "metadata": {
    "collapsed": false,
    "pycharm": {
     "is_executing": true
    }
   }
  },
  {
   "cell_type": "markdown",
   "source": [
    "Comment briefly your results\n",
    "The M Gamma PDF is the derivative of the M Gamma CDF\n",
    "The results we observe are consistent with the plotted distributions."
   ],
   "metadata": {
    "collapsed": false
   }
  }
 ],
 "metadata": {
  "kernelspec": {
   "display_name": "Python 3 (ipykernel)",
   "language": "python",
   "name": "python3"
  },
  "language_info": {
   "codemirror_mode": {
    "name": "ipython",
    "version": 3
   },
   "file_extension": ".py",
   "mimetype": "text/x-python",
   "name": "python",
   "nbconvert_exporter": "python",
   "pygments_lexer": "ipython3",
   "version": "3.10.7"
  }
 },
 "nbformat": 4,
 "nbformat_minor": 4
}
