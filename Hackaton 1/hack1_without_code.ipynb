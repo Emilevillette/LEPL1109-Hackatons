{
 "cells": [
  {
   "cell_type": "markdown",
   "metadata": {},
   "source": [
    "# Hackathon 1: descriptive statistics, estimation and bootstrapping\n",
    "\n",
    "This project illustrates the course LEPL1109 with an industrial applications of statistics. You will analyse the performance of wind farms located in the Walloon Brabant near Beauvechain and in the high Fens, close to Elsenborn. Each wind farm exploits 8 wind turbines. The kinetic power, noted Pk, (in watt) of one wind turbine is calculated with the formula \n",
    "\n",
    "Pk (W) = 0.5 x Rho x S x V^3\n",
    "\n",
    "Where \n",
    "\n",
    "S   : is the surface of the circle in square meters with a radius equal to the length of blades (32 m).\n",
    "Rho : is the air density (“masse volumique”). We consider here an average value of 1.2 kg/m^3\n",
    "V   : is the speed of wind in m/s.\n",
    "\n",
    "According to the Betz limit, only 59.3% of the kinetic energy from wind can be used to spin the turbine and generate electricity. In reality, turbines cannot reach the Betz limit, and the efficiency is estimated to 42% of the kinetic power. One wind turbine generates an electric power Pe = 0.42 x Pk. \n",
    "\n",
    "The wind turbins are stopped if the wind speed is above 90 km/h.\n",
    "\n",
    "The file “BeauvechainWind.csv” and “Elsenborn.csv” contains the average daily wind speeds, measured in km/h, at Beauvechain and  Elsenborn (source www. https://www.ecad.eu/)\n",
    "\n",
    "FILE FORMAT (MISSING VALUE CODE IS -9999):\n",
    "01-06 SOUID: Source identifier\n",
    "08-15 DATE : Date YYYYMMDD\n",
    "17-21 FG   : wind speed in 0.1 m/s\n",
    "23-27 Q_FG : Quality code for FG (0='valid'; 1='suspect'; 9='missing')\n",
    "\n",
    "\n",
    "## Report content\n",
    "\n",
    "•\tGrades are granted to the members whose names are in the Jupyter notebook. If your name doesn’t appear on the top of the notebook, you’ll get a 0, even though you are in a group on Moodle.\n",
    "\n",
    "•\tThe jupyter notebook must be compiled with printed results and next submitted via moodle. The absence of compiled results (or non-printed values) leads to a lower grade.\n",
    "\n",
    "## Report submission\n",
    "\n",
    "•\tDeadline, see moodle website. Submission after the deadline will not be accepted.\n",
    "\n",
    "•\tTo submit your report, go to the section “APP” on Moodle and the subsection “Soumission du rapport”. You can upload your work there. Once you are sure that it is your final version, click the button “Envoyer le devoir”. It is important that you don’t forget to click on this button ! \n",
    "\n",
    "•\tReports that have not been uploaded through Moodle will not be corrected.\n",
    "\n",
    "\n",
    "## Names and Noma of participants:\n",
    "\n",
    "Part. 1: Emile VILLETTE (10992000)\n",
    "\n",
    "Part. 2:\n",
    "\n",
    "Part. 3:\n",
    "\n",
    "Part. 4:\n"
   ]
  },
  {
   "cell_type": "code",
   "execution_count": 4,
   "metadata": {},
   "outputs": [
    {
     "ename": "ModuleNotFoundError",
     "evalue": "No module named 'seaborn'",
     "output_type": "error",
     "traceback": [
      "\u001B[1;31m---------------------------------------------------------------------------\u001B[0m",
      "\u001B[1;31mModuleNotFoundError\u001B[0m                       Traceback (most recent call last)",
      "\u001B[1;32m~\\AppData\\Local\\Temp/ipykernel_12980/117228332.py\u001B[0m in \u001B[0;36m<module>\u001B[1;34m\u001B[0m\n\u001B[0;32m      8\u001B[0m \u001B[1;32mfrom\u001B[0m \u001B[0mdatetime\u001B[0m \u001B[1;32mimport\u001B[0m \u001B[0mdatetime\u001B[0m\u001B[1;33m\u001B[0m\u001B[1;33m\u001B[0m\u001B[0m\n\u001B[0;32m      9\u001B[0m \u001B[1;32mfrom\u001B[0m \u001B[0mscipy\u001B[0m \u001B[1;32mimport\u001B[0m \u001B[0mstats\u001B[0m\u001B[1;33m\u001B[0m\u001B[1;33m\u001B[0m\u001B[0m\n\u001B[1;32m---> 10\u001B[1;33m \u001B[1;32mimport\u001B[0m \u001B[0mseaborn\u001B[0m \u001B[1;32mas\u001B[0m \u001B[0msns\u001B[0m\u001B[1;33m\u001B[0m\u001B[1;33m\u001B[0m\u001B[0m\n\u001B[0m\u001B[0;32m     11\u001B[0m \u001B[1;31m#sns.set()\u001B[0m\u001B[1;33m\u001B[0m\u001B[1;33m\u001B[0m\u001B[1;33m\u001B[0m\u001B[0m\n",
      "\u001B[1;31mModuleNotFoundError\u001B[0m: No module named 'seaborn'"
     ]
    }
   ],
   "source": [
    "import matplotlib.pyplot as plt\n",
    "import numpy as np\n",
    "import math\n",
    "import pandas as pd\n",
    "from datetime import datetime\n",
    "from scipy import stats"
   ]
  },
  {
   "cell_type": "code",
   "execution_count": null,
   "metadata": {},
   "outputs": [],
   "source": [
    "def Pk(V):\n",
    "    return 0.5 * 1.2 * (math.pi * (32 ** 2)) * ((V/3.6) ** 3) * 8\n",
    "\n",
    "\n",
    "def Pe(Pk):\n",
    "    return 0.42 * Pk\n",
    "\n",
    "\n",
    "def open_csv(filename):\n",
    "    return pd.read_csv(filename, parse_dates=['DATE'], skipinitialspace=True)\n",
    "\n",
    "\n",
    "def select_correct_data(data):\n",
    "    return data[(data.FG > 0) & ((data.Q_FG != 1) & (data.Q_FG != 9))]"
   ]
  },
  {
   "cell_type": "code",
   "execution_count": null,
   "metadata": {},
   "outputs": [],
   "source": [
    "df_be = select_correct_data(open_csv('Beauvechain.csv'))\n",
    "df_el = select_correct_data(open_csv('Elsenborn.csv'))\n",
    "df_be = df_be[(datetime(2017, 1, 1) <= df_be['DATE']) & (df_be['DATE'] <= datetime(2021, 1, 1))]\n",
    "df_el = df_el[(datetime(2017, 1, 1) <= df_el['DATE']) & (df_el['DATE'] <= datetime(2021, 1, 1))]\n",
    "cdv = np.intersect1d(df_be['DATE'].values, df_el['DATE'].values)\n",
    "df_be = df_be[df_be['DATE'].isin(cdv)]\n",
    "df_el = df_el[df_el['DATE'].isin(cdv)]"
   ]
  },
  {
   "cell_type": "markdown",
   "metadata": {},
   "source": [
    "------------------------------------------------------------------------------------------------------\n",
    "1.\tWrite a function computing the electric power capacity (in Mega Watts = 10^6 W), for the two wind farms using wind data from the 1/1/2017 to the 1/1/2021\n",
    "\n",
    "•\tDo not forget to set the production to zero if the wind speed is above 90 km. \n",
    "\n",
    "•\tTake care to converts units.\n",
    "\n",
    "•\tRemove all days with missing data (error code 1 or 9) for Beauvechain or Elsenborn\n",
    "\n",
    "------------------------------------------------------------------------------------------------------"
   ]
  },
  {
   "cell_type": "code",
   "execution_count": null,
   "metadata": {},
   "outputs": [],
   "source": [
    "df_be['PowerCapacity'] = Pe(Pk(df_be['FG'])) * (10) ** -6\n",
    "df_el['PowerCapacity'] = Pe(Pk(df_el['FG'])) * (10) ** -6"
   ]
  },
  {
   "cell_type": "code",
   "execution_count": null,
   "metadata": {},
   "outputs": [],
   "source": [
    "df_be.loc[df_be['FG'] >= 90, 'PowerCapacity'] = 0\n",
    "df_el.loc[df_el['FG'] >= 90, 'PowerCapacity'] = 0"
   ]
  },
  {
   "cell_type": "code",
   "execution_count": null,
   "metadata": {},
   "outputs": [],
   "source": [
    "df_pcd = df_be.set_index('DATE')[['PowerCapacity']].join(df_el.set_index('DATE')[['PowerCapacity']], lsuffix='_be', rsuffix='_el')\n",
    "df_pcd.columns = ['Beauvechain power capacity', 'Elsenborn power capacity']\n",
    "df_pcd"
   ]
  },
  {
   "cell_type": "markdown",
   "metadata": {},
   "source": [
    "Comment briefly your results\n",
    "\n"
   ]
  },
  {
   "cell_type": "markdown",
   "metadata": {},
   "source": [
    "------------------------------------------------------------------------------------------------------------------------\n",
    "\n",
    "2.\tPlot histograms and box plots of electric power capacity (MW) from the 1/1/2017 to the 1/1/2021 (both sites). \n",
    "\n",
    "------------------------------------------------------------------------------------------------------------------------"
   ]
  },
  {
   "cell_type": "code",
   "execution_count": null,
   "metadata": {},
   "outputs": [],
   "source": [
    "#histogram of electric power capacities in the given periode\n",
    "def q2_histogram(df, title=''):\n",
    "    plt.figure(figsize=(10, 3))\n",
    "    plt.title(title)\n",
    "    plt.bar(df['DATE'], df['PowerCapacity'], label='Power capacity')\n",
    "    plt.plot(df['DATE'], df['PowerCapacity'].rolling(window=30).mean(), color='red', alpha=.7, label='Montly average')\n",
    "    plt.xlim(df['DATE'].min(), df['DATE'].max())\n",
    "    plt.ylabel('Power (MW)')\n",
    "    plt.xlabel('Date')\n",
    "    plt.legend()\n",
    "\n",
    "def q2_boxplot(df, title=''):\n",
    "    plt.figure(figsize=(10, 3))\n",
    "    plt.title(title)\n",
    "    plt.boxplot(df['PowerCapacity'],showfliers=False)\n",
    "    plt.ylabel('Power (MW)')\n",
    "    plt.xlabel('Date')\n",
    "\n",
    "\n",
    "q2_histogram(df_be, title='Beauvechain')\n",
    "q2_histogram(df_el, title='Elsenborn')\n",
    "q2_boxplot(df_be, title='Beauvechain')\n",
    "q2_boxplot(df_el, title='Elsenborn')"
   ]
  },
  {
   "cell_type": "markdown",
   "metadata": {},
   "source": [
    "------------------------------------------------------------------------------------------------------\n",
    "\n",
    "3.\tCompare the following statistics of both sites and draw a first conclusions\n",
    "\n",
    "•\tAverage and median powers for each farm (MW)\n",
    "\n",
    "•\tStandard deviations of powers, for each farm (MW)\n",
    "\n",
    "•\t5% and 95% percentiles of powers, for each farm (MW)\n",
    "\n",
    "The average and standard deviation of the total power capacities (Beauvechain + Elsenborn).\n",
    "\n",
    "------------------------------------------------------------------------------------------------------"
   ]
  },
  {
   "cell_type": "code",
   "execution_count": null,
   "metadata": {},
   "outputs": [],
   "source": [
    "def q3(df, name=\"\"):\n",
    "    print(f\"{name} farm:\")\n",
    "    print(f\" - Average power: {df['PowerCapacity'].mean():.2f} MW\")\n",
    "    print(f\" - Median power: {df['PowerCapacity'].median():.2f} MW\")\n",
    "    print(f\" - Standard deviation: {df['PowerCapacity'].std():.2f} MW\")\n",
    "    print(f\" - Percentile 5: {np.percentile(df['PowerCapacity'], 5):.2f} MW\")\n",
    "    print(f\" - Percentile 95: {np.percentile(df['PowerCapacity'], 95):.2f} MW\")\n",
    "\n",
    "q3(df_be, \"Beauvechain\")\n",
    "print()\n",
    "q3(df_el, \"Elsenborn\")\n",
    "print()\n",
    "dfc = df_be.copy()\n",
    "dfc['PowerCapacity'] += df_el['PowerCapacity'].values\n",
    "q3(dfc, \"Both\")"
   ]
  },
  {
   "cell_type": "markdown",
   "metadata": {},
   "source": [
    "Comment briefly your results\n",
    "\n"
   ]
  },
  {
   "cell_type": "markdown",
   "metadata": {},
   "source": [
    "\n",
    "------------------------------------------------------------------------------------------------------\n",
    "4.\tFit Gamma and Inverse Gaussian distributions to wind speeds (in Km/h) in Beauvechain and Elsenborn. Estimate their parameters by log-likelihood maximization (MLE). Which distribution is the best one? Compare the histograms of winds with the fitted pdf’s on the same plot.\n",
    "------------------------------------------------------------------------------------------------------"
   ]
  },
  {
   "cell_type": "code",
   "execution_count": null,
   "metadata": {
    "scrolled": false
   },
   "outputs": [],
   "source": [
    "def q4(df, fct, title=''):\n",
    "    df_fgc = df.groupby(['FG'])['PowerCapacity'].count()\n",
    "\n",
    "    X = np.linspace(df['FG'].min(), df['FG'].max(), 1000)\n",
    "    params = fct.fit(df['FG'].values)\n",
    "    y = fct.pdf(X, *params)\n",
    "\n",
    "    plt.figure(figsize=(10, 2))\n",
    "    plt.title(title)\n",
    "    plt.xlabel('Wind speed (km/h)')\n",
    "    plt.ylabel('Rate')\n",
    "    plt.bar(df_fgc.index, df_fgc.values / df_fgc.sum())\n",
    "    plt.plot(X, y, color='red')\n",
    "    \n",
    "    return params\n",
    "\n",
    "best_be_params = q4(df_be, stats.gamma, title='Beauvechain (gamma)')\n",
    "best_el_params = q4(df_el, stats.gamma, title='Elsenborn (gamma)')\n",
    "q4(df_be, stats.invgauss, title='Beauvechain (inverse gaussian)')\n",
    "_ = q4(df_el, stats.invgauss, title='Elsenborn (inverse gaussian)')"
   ]
  },
  {
   "cell_type": "markdown",
   "metadata": {},
   "source": [
    "Comment briefly your results\n",
    "\n"
   ]
  },
  {
   "cell_type": "markdown",
   "metadata": {},
   "source": [
    "------------------------------------------------------------------------------------------------------\n",
    "5.\tCompute numerically for both sites, the following statistics \n",
    "\n",
    "•\tExpected and median powers for each farm (MW)\n",
    "\n",
    "•\tStandard deviation of powers for each farm (MW)\n",
    "\n",
    "•\t5% and 95% percentiles of powers for each farm (MW)\n",
    "\n",
    "Use the best distributions fitted in Question 4 (not observed values)\n",
    "\n",
    "------------------------------------------------------------------------------------------------------"
   ]
  },
  {
   "cell_type": "code",
   "execution_count": null,
   "metadata": {},
   "outputs": [],
   "source": [
    "def q5(fct, params, name=\"\"):\n",
    "    sample_ws = fct.rvs(*params, 1000000)\n",
    "    sample_pw = Pe(Pk(sample_ws)) * 10**-6\n",
    "    sample_pw[sample_ws >= 90] = 0\n",
    "    \n",
    "    print(f\"{name} farm:\")\n",
    "    print(f\" - Theorical average power: {sample_pw.mean():.2f} MW\")\n",
    "    print(f\" - Theorical median power: {np.median(sample_pw):.2f} MW\")\n",
    "    print(f\" - Theorical standard deviation: {np.std(sample_pw):.2f} MW\")\n",
    "    print(f\" - Theorical percentile 5: {np.percentile(sample_pw, 5):.2f} MW\")\n",
    "    print(f\" - Theorical percentile 95: {np.percentile(sample_pw, 95):.2f} MW\")\n",
    "    \n",
    "    return sample_pw\n",
    "\n",
    "_ = q5(stats.gamma, best_be_params, \"Beauvechain\")\n",
    "print()\n",
    "_ = q5(stats.gamma, best_el_params, \"Elsenborn\")"
   ]
  },
  {
   "cell_type": "markdown",
   "metadata": {},
   "source": [
    "Comment briefly your results\n",
    "\n"
   ]
  },
  {
   "cell_type": "markdown",
   "metadata": {},
   "source": [
    "------------------------------------------------------------------------------------------------------\n",
    "\n",
    "6.\tSame question as Q.4 but this time, you fit the best distribution by the methods of moments MM, (in Python). Compare parameter estimates and plot pdf’s obtained by MLE and MM for both wind farms.\n",
    "\n",
    "------------------------------------------------------------------------------------------------------"
   ]
  },
  {
   "cell_type": "code",
   "execution_count": null,
   "metadata": {},
   "outputs": [],
   "source": [
    "#code here\n",
    "def sample_moment(sample, n):\n",
    "    sm = np.sum([nb**n for nb in sample])\n",
    "    lgt = len(sample)\n",
    "    return 1/lgt * sm\n",
    "\n",
    "def estimate(sample):\n",
    "    first_moment = sample_moment(sample,1)\n",
    "    second_moment = sample_moment(sample,2)\n",
    "    k = first_moment**2/(second_moment - first_moment**2)\n",
    "    theta = second_moment/first_moment - first_moment\n",
    "    return k, theta\n",
    "\n",
    "\n",
    "\n",
    "def q6(df, title=''):\n",
    "    df_fgc = df.groupby(['FG'])['PowerCapacity'].count()\n",
    "    X = np.linspace(df[\"FG\"].min(), df[\"FG\"].max(), 1000)\n",
    "\n",
    "    #method of moments\n",
    "    k_chapeau , theta_chapeau = estimate(df[\"FG\"].values)\n",
    "    y_mm = stats.gamma.pdf(x=X, a= k_chapeau, scale=theta_chapeau)\n",
    "\n",
    "    #MLE method\n",
    "    params = stats.gamma.fit(df['FG'].values)\n",
    "    y_mle = stats.gamma.pdf(X, *params)\n",
    "\n",
    "    plt.figure(figsize=(10, 4))\n",
    "    plt.title(title)\n",
    "    plt.xlabel('Wind speed (km/h)')\n",
    "    plt.ylabel('Rate')\n",
    "    plt.bar(df_fgc.index, df_fgc.values / df_fgc.sum())\n",
    "    plt.plot(X, y_mle, color=\"red\", label=\"MLE estimation\")\n",
    "    plt.plot(X, y_mm, color='green', label=\"MM estimation\")\n",
    "    plt.legend()\n",
    "\n",
    "mm_be = q6(df_be, title=\"Beauvechain method of moments\")\n",
    "mm_el = q6(df_el, title=\"Elsenborn method of moments\")\n"
   ]
  },
  {
   "cell_type": "markdown",
   "metadata": {},
   "source": [
    "------------------------------------------------------------------------------------------------------\n",
    "\n",
    "7.\tBootstrap 1000 times a sample of 500 daily speeds of wind for both wind farms and compute a 5% confidence interval for parameter(s) estimates for the best distribution of Question 4) modelling winds in Beauvechain. How do you interpret the results\n",
    "\n",
    "------------------------------------------------------------------------------------------------------"
   ]
  },
  {
   "cell_type": "code",
   "execution_count": null,
   "metadata": {},
   "outputs": [],
   "source": [
    "#code here\n",
    "\n"
   ]
  },
  {
   "cell_type": "markdown",
   "metadata": {},
   "source": [
    "Comment briefly your results\n",
    "\n"
   ]
  },
  {
   "cell_type": "markdown",
   "metadata": {},
   "source": [
    "------------------------------------------------------------------------------------------------------\n",
    "\n",
    "8.\tLet us denote by X the wind speed observed at Beauvechain on a day of the year. The winds observed over 30 days are denoted by (X1,…,X30). They are realizations of X, a random variable with the distribution fitted in Question 4. If M=max{ X1,…,X30},  \n",
    "\n",
    "•\tfind the statistical law of M (equation requested, hint use the cdf of X) \n",
    "\n",
    "•\tplot the pdf and cdf of M. \n",
    "\n",
    "•\tDetermine the wind value, p5, such that  P(M>p5)=95%.\n",
    "\n",
    "\n",
    "------------------------------------------------------------------------------------------------------"
   ]
  },
  {
   "cell_type": "markdown",
   "metadata": {},
   "source": [
    "Comment briefly your results\n",
    "\n"
   ]
  },
  {
   "cell_type": "code",
   "execution_count": null,
   "outputs": [],
   "source": [
    "# Code here\n",
    "X_i 1 -> 30\n",
    "Mi = max{x1 - x30}\n",
    "F_n\n",
    "f_n\n",
    "p(M>p) = 95%\n",
    "soit x appartenant a R (arbitraire)\n",
    "F_n (x) =P[m<=x] = P[max[x1...x30]<=x] = p( tous les x_i <= x) = produit de tous les x_i = p (X<=x)**30 = F_x(x)**30\n",
    "F_n = F_x**30\n",
    "a) f_n = F_n = 30*(F_x**29) * f_x\n",
    "P t.q. F_n(p) = 5%"
   ],
   "metadata": {
    "collapsed": false
   }
  }
 ],
 "metadata": {
  "kernelspec": {
   "display_name": "Python 3 (ipykernel)",
   "language": "python",
   "name": "python3"
  },
  "language_info": {
   "codemirror_mode": {
    "name": "ipython",
    "version": 3
   },
   "file_extension": ".py",
   "mimetype": "text/x-python",
   "name": "python",
   "nbconvert_exporter": "python",
   "pygments_lexer": "ipython3",
   "version": "3.10.8"
  }
 },
 "nbformat": 4,
 "nbformat_minor": 4
}
