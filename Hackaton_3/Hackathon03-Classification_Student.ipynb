{
 "cells": [
  {
   "cell_type": "markdown",
   "source": [
    "<font size=6  color=#003366> <b>[LEPL1109] - STATISTICS AND DATA SCIENCES</b> <br><br> \n",
    "<b>Hackathon 03 - Classification: AirQuality</b> </font> <br><br><br>\n",
    "\n",
    "<font size=5  color=#003366>\n",
    "Prof. D. Hainaut<br>\n",
    "Prof. L. Jacques<br>\n",
    "\n",
    "<br><br>\n",
    "Anne-Sophie Collin   (anne-sophie.collin@uclouvain.be)<br>\n",
    "Guillaume Van Dessel (guillaume.vandessel@uclouvain.be)<br>\n",
    "Jérome Eertmans (jerome.eertmans@uclouvain.be)<br>\n",
    "Maxime Zanella (maxime.zanella@uclouvain.be)<br>\n",
    "Florine Thiry (florine.thiry@uclouvain.be)<br>\n",
    "Baptiste Standaert (baptiste.standaert@uclouvain.be)<br>\n",
    "Antoine Legat (antoine.legat@uclouvain.be)<br>\n",
    "<div style=\"text-align: right\"> Version 2022</div>\n",
    "\n",
    "<br><br>\n",
    "</font>"
   ],
   "metadata": {
    "cell_id": "0b083a401f45431081fa360a569acb52",
    "deepnote_cell_type": "markdown"
   }
  },
  {
   "cell_type": "markdown",
   "source": [
    "<font size=5 color=#009999> <b>GUIDELINES & DELIVERABLES</b> </font> <br>\n",
    "-  This assignment is due on the <b>9 December 2022 at 22h00</b>.\n",
    "-  Copying code or answers from other groups (or from the internet) is strictly forbidden. <b>Each source of inspiration (stack overflow, git, other groups,...) must be clearly indicated!</b>\n",
    "-  This notebook (with the \"ipynb\" extension) file, the report (PDF format) and all other files that are necessary to run your code must be delivered on <b>Moodle</b>.\n",
    "- Only the PDF report will be graded on content and quality of the text / figures. <br><br>\n",
    "\n",
    "<div class=\"alert alert-danger\">\n",
    "<b>[DELIVERABLE] Summary</b>  <br>\n",
    "After the reading of this document (and playing with the code!), we expect you to provide us with:\n",
    "<ol>\n",
    "   <li> a PDF file (written in LaTeX, see example on Moodle) that answers all the questions below. The report should contain high quality figures with named axes (we recommend saving plots with the <samp>.pdf</samp> extension);\n",
    "   <li> this Jupyter Notebook (it will not be read, just checked for plagiarism);\n",
    "   <li> and all other files (not the datasets!) we would need to run your code.\n",
    "</ol>\n",
    "</div>\n",
    "\n",
    "<font size=5 color=#009999> <b>CONTEXT & OBJECTIVE </b> </font> <br>\n",
    "    \n",
    "\n",
    "### Context\n",
    "\n",
    "The air in cities is polluted by human activities. Vehicular emissions, heating systems, industries... You probably remember those times when the air is so polluted that it is recommended to stay at home, and not do too much sport outside. It is often related to specific weather conditions (e.g. not enough wind to blow air pollution away).\n",
    "\n",
    "Besides, one could wonder: is it healthy to go running in a city? Do the benefits of sport balance the fact that you are breathing polluted air? Studies show that the answer is yes, as long as you avoid busy roads with dense traffic.\n",
    "\n",
    "Air quality is a crucial issue in our modern society, and its effect is poorly anchored in common knowledge. As engineers of tomorrow, you must be aware of the impact of thermic engines and industries on human health.\n",
    "\n",
    "![](https://api.brusselstimes.com/wp-content/uploads/2022/01/763-45.jpeg)\n",
    "\n",
    "In this hackathon, we will learn to quantify air quality. Wikipedia says that smog (or smoke fog) is composed of nitrogen oxides, sulfur oxide, ozone, smoke and other particulates. How to quantify from those different features?\n",
    "\n",
    "People use the Air Quality Index (AQI). This is a natural number running from 0 to 500+, the lower the better. AQI accounts for the concentration of important pollutants and particles. We usually distinguish 6 classes of air quality, from good to severe (see table below). In this hackathon, we will classify the AQI between only 2 classes: good or bad.\n",
    "\n",
    "\n",
    "![](https://i.imgur.com/XmnE0rT.png)\n",
    " \n",
    "\n",
    "\n",
    "### Objectives\n",
    "\n",
    "The project aims to train a binary classifier to estimate the air quality index (AQI) based on the air concentration of certain pollutants. Note that the AQI is initially defined as a natural number between 0 and 500+. However, to better address the problem, we propose to classify the air quality as poor (labeled 0) or good (labeled 1). The next part of the document will guide you in this process.  \n",
    "\n",
    "### Notebook structure\n",
    "This notebook is organized into four parts. Each of them assesses one fundamental step to solve our problem and provides one visualization tool to gain some understanding:\n",
    "* PART 1 - PREPROCESSING\n",
    "   - 1.1 - Import the dataset\n",
    "   - 1.2 - Split the dataset\n",
    "    <br><br>\n",
    "* PART 2 - EXPLORATORY DATA ANALYSIS \n",
    "   - 2.1 - Binary targets\n",
    "   - 2.2 - Cyclical features\n",
    "   - 2.3 - Correlation matrix\n",
    "   - 2.4 - Features selection\n",
    "   - 2.5 - Data scaling and normalization\n",
    "    <br><br>\n",
    "* PART 3 - MODEL SELECTION\n",
    "   - 3.1 - Precision, recall and F1-score\n",
    "   - 3.2 - Model evaluation\n",
    "   - 3.3 - Model selection and parameters tuning\n",
    "   - 3.4 - Precision-Recall curve and thresholding\n",
    "   <br><br>\n",
    "* PART 4 - MODEL TESTING\n",
    "   - 4.1 - Error computation on the test set\n",
    "   \n",
    "We filled this notebook with preliminary (trivial) code. This practice makes possible to run each cell, even the last ones, without throwing warnings. <br><b>Take advantage of this aspect to divide the work between all team members!</b> <br><br> "
   ],
   "metadata": {
    "cell_id": "71f894efa2da494a9a60ae53d2d52727",
    "deepnote_cell_type": "markdown"
   }
  },
  {
   "cell_type": "code",
   "source": [
    "## warnings off\n",
    "import warnings\n",
    "\n",
    "warnings.filterwarnings(\"ignore\")"
   ],
   "metadata": {
    "cell_id": "a4d2d2601d604809b502d54b58a6761d",
    "source_hash": "583ef74",
    "execution_start": 1670614547151,
    "execution_millis": 100755,
    "deepnote_to_be_reexecuted": false,
    "deepnote_cell_type": "code"
   },
   "outputs": [],
   "execution_count": 1
  },
  {
   "cell_type": "markdown",
   "source": [
    "<br><font size=7 color=#009999> <b>PART 1 - DATA LOADING</b> </font> <br><br>"
   ],
   "metadata": {
    "cell_id": "288645554f6e4d8d9eac456e44e41ef8",
    "deepnote_cell_type": "markdown"
   }
  },
  {
   "cell_type": "markdown",
   "source": [
    "<font size=4 color=#009999> <br> 1.0/1 DISCOVER THE DATASET </font> <br>\n",
    "\n",
    "**Import** `gas_measurements.csv` using `read_csv` [<sup>1</sup>](#fn1) from pandas and **obtain** a brief description of the data (size, variables type, missing values, etc.).  \n",
    "\n",
    "\n",
    "\n",
    "<span id=\"fn1\"> [1] N.B : the separator in the csv file is ',' and not the default comma (see the *`sep`* argument).</span>"
   ],
   "metadata": {
    "cell_id": "0c708a86037d4cf3b80c2ec4bf20d3b5",
    "deepnote_cell_type": "markdown"
   }
  },
  {
   "cell_type": "markdown",
   "source": [
    "<div class=\"alert alert-warning\">\n",
    "    <b>[Question 1.0]</b> Describe, briefly, your dataset (size, variables type, missing values, etc.).<br>\n",
    "</div> "
   ],
   "metadata": {
    "cell_id": "341033121d4f4b4a9b0e22de39d24d2b",
    "deepnote_cell_type": "markdown"
   }
  },
  {
   "cell_type": "code",
   "source": [
    "\"\"\"\n",
    "CELL N°1 : Import the dataset using pd.read_csv function \n",
    "\n",
    "@pre: filename 'gas_measurements.csv', located in the same folder as this jupyter\n",
    "@post: variable `df` containing the dataframe\n",
    "\"\"\"\n",
    "\n",
    "import matplotlib.pyplot as plt\n",
    "import numpy as np\n",
    "import pandas as pd\n",
    "import seaborn as sns\n",
    "\n",
    "#############################\n",
    "# Start : \n",
    "#############################\n",
    "\n",
    "# @rewrite\n",
    "df = pd.read_csv(\"gas_measurements.csv\", parse_dates=[\"Datetime\"])\n",
    "df = df.rename(columns={\"Unnamed: 0\": \"index\"})\n",
    "#iris = datasets.load_iris()\n",
    "#df = pd.DataFrame(data=np.c_[iris['data'], iris['target']], columns=iris['feature_names'] + ['target'])\n",
    "\n",
    "df = df.sample(frac=1).reset_index(drop=True)\n",
    "df.drop('index', axis=1, inplace=True, errors='ignore')\n",
    "\n",
    "print(f'Size: {df.size} x {len(df.columns)}\\n')\n",
    "\n",
    "for c in df.columns:\n",
    "    a = df[c].isna().sum()\n",
    "    print(f'{c}: {a} ({a/len(df):.0%})')\n",
    "\n",
    "##########################\n",
    "# End : \n",
    "#########################"
   ],
   "metadata": {
    "cell_id": "55cf726b77c9477cbb8bd85747df24d3",
    "scrolled": false,
    "source_hash": "64d4dfb0",
    "execution_start": 1670614547151,
    "execution_millis": 880,
    "deepnote_to_be_reexecuted": false,
    "deepnote_cell_type": "code"
   },
   "outputs": [
    {
     "name": "stdout",
     "text": "Size: 447690 x 10\n\nBigUrbanCity: 0 (0%)\nPM10: 460 (1%)\nPM2_5: 1229 (3%)\nSO2: 23169 (52%)\nNOx: 2270 (5%)\nNH3: 22997 (51%)\nCO: 955 (2%)\nO3: 688 (2%)\nDatetime: 0 (0%)\nAQI: 0 (0%)\n",
     "output_type": "stream"
    }
   ],
   "execution_count": 2
  },
  {
   "cell_type": "markdown",
   "source": [
    "<div class=\"alert alert-warning\">\n",
    "    <b>[Question 1.1]</b> Based on your observations, justify and proceed to the <i>a priori</i> deletion of <b>two</b> troublesome features. \n",
    "</div> \n",
    "\n",
    "<i>HINT</i>: one usually decides of a <i>threshold</i> $\\tau\\in [0,1[$ of the allowed proportion of missing data within a given feature...\n",
    "\n",
    "<b>NOTE</b>: there will remain other features with missing data.. it is not a big deal as soon as the proportion of missing data stays <i>reasonable</i>. In what concerns these features with missing data that are not discarded here, we will proceed with a <i>fill-in</i> operation later on."
   ],
   "metadata": {
    "cell_id": "d91eae4bbd444f10bd41752f8d290ea9",
    "deepnote_cell_type": "markdown"
   }
  },
  {
   "cell_type": "code",
   "source": [
    "#############################\n",
    "# Start : \n",
    "#############################\n",
    "\n",
    "# @rewrite\n",
    "# Instead of dropping for a threshold we drop the two columns with the most missing values\n",
    "print(df.isna().sum())\n",
    "df.drop([\"NH3\"], axis=1, inplace=True, errors='ignore')\n",
    "df.drop([\"SO2\"], axis=1, inplace=True, errors='ignore')\n",
    "df.head()\n",
    "\n",
    "\n",
    "\n",
    "##########################\n",
    "# End : \n",
    "#########################"
   ],
   "metadata": {
    "cell_id": "b6c691cc236742ddaafda483a06afdf6",
    "source_hash": "e269f52c",
    "execution_start": 1670614548032,
    "execution_millis": 40,
    "deepnote_to_be_reexecuted": false,
    "deepnote_cell_type": "code"
   },
   "outputs": [
    {
     "name": "stdout",
     "text": "BigUrbanCity        0\nPM10              460\nPM2_5            1229\nSO2             23169\nNOx              2270\nNH3             22997\nCO                955\nO3                688\nDatetime            0\nAQI                 0\ndtype: int64\n",
     "output_type": "stream"
    },
    {
     "output_type": "execute_result",
     "execution_count": 3,
     "data": {
      "application/vnd.deepnote.dataframe.v3+json": {
       "column_count": 8,
       "row_count": 5,
       "columns": [
        {
         "name": "BigUrbanCity",
         "dtype": "int64",
         "stats": {
          "unique_count": 2,
          "nan_count": 0,
          "min": "0",
          "max": "1",
          "histogram": [
           {
            "bin_start": 0,
            "bin_end": 0.1,
            "count": 3
           },
           {
            "bin_start": 0.1,
            "bin_end": 0.2,
            "count": 0
           },
           {
            "bin_start": 0.2,
            "bin_end": 0.30000000000000004,
            "count": 0
           },
           {
            "bin_start": 0.30000000000000004,
            "bin_end": 0.4,
            "count": 0
           },
           {
            "bin_start": 0.4,
            "bin_end": 0.5,
            "count": 0
           },
           {
            "bin_start": 0.5,
            "bin_end": 0.6000000000000001,
            "count": 0
           },
           {
            "bin_start": 0.6000000000000001,
            "bin_end": 0.7000000000000001,
            "count": 0
           },
           {
            "bin_start": 0.7000000000000001,
            "bin_end": 0.8,
            "count": 0
           },
           {
            "bin_start": 0.8,
            "bin_end": 0.9,
            "count": 0
           },
           {
            "bin_start": 0.9,
            "bin_end": 1,
            "count": 2
           }
          ]
         }
        },
        {
         "name": "PM10",
         "dtype": "float64",
         "stats": {
          "unique_count": 5,
          "nan_count": 0,
          "min": "33.5",
          "max": "272.7729166666668",
          "histogram": [
           {
            "bin_start": 33.5,
            "bin_end": 57.427291666666676,
            "count": 2
           },
           {
            "bin_start": 57.427291666666676,
            "bin_end": 81.35458333333335,
            "count": 0
           },
           {
            "bin_start": 81.35458333333335,
            "bin_end": 105.28187500000004,
            "count": 0
           },
           {
            "bin_start": 105.28187500000004,
            "bin_end": 129.2091666666667,
            "count": 1
           },
           {
            "bin_start": 129.2091666666667,
            "bin_end": 153.1364583333334,
            "count": 1
           },
           {
            "bin_start": 153.1364583333334,
            "bin_end": 177.06375000000008,
            "count": 0
           },
           {
            "bin_start": 177.06375000000008,
            "bin_end": 200.99104166666675,
            "count": 0
           },
           {
            "bin_start": 200.99104166666675,
            "bin_end": 224.91833333333344,
            "count": 0
           },
           {
            "bin_start": 224.91833333333344,
            "bin_end": 248.84562500000013,
            "count": 0
           },
           {
            "bin_start": 248.84562500000013,
            "bin_end": 272.7729166666668,
            "count": 1
           }
          ]
         }
        },
        {
         "name": "PM2_5",
         "dtype": "float64",
         "stats": {
          "unique_count": 5,
          "nan_count": 0,
          "min": "13.03125",
          "max": "174.94583333333318",
          "histogram": [
           {
            "bin_start": 13.03125,
            "bin_end": 29.22270833333332,
            "count": 1
           },
           {
            "bin_start": 29.22270833333332,
            "bin_end": 45.41416666666664,
            "count": 1
           },
           {
            "bin_start": 45.41416666666664,
            "bin_end": 61.60562499999996,
            "count": 1
           },
           {
            "bin_start": 61.60562499999996,
            "bin_end": 77.79708333333328,
            "count": 1
           },
           {
            "bin_start": 77.79708333333328,
            "bin_end": 93.98854166666659,
            "count": 0
           },
           {
            "bin_start": 93.98854166666659,
            "bin_end": 110.17999999999992,
            "count": 0
           },
           {
            "bin_start": 110.17999999999992,
            "bin_end": 126.37145833333324,
            "count": 0
           },
           {
            "bin_start": 126.37145833333324,
            "bin_end": 142.56291666666655,
            "count": 0
           },
           {
            "bin_start": 142.56291666666655,
            "bin_end": 158.75437499999987,
            "count": 0
           },
           {
            "bin_start": 158.75437499999987,
            "bin_end": 174.94583333333318,
            "count": 1
           }
          ]
         }
        },
        {
         "name": "NOx",
         "dtype": "float64",
         "stats": {
          "unique_count": 5,
          "nan_count": 0,
          "min": "4.594843024581983e-13",
          "max": "37.39916666666665",
          "histogram": [
           {
            "bin_start": 4.594843024581983E-13,
            "bin_end": 3.7399166666670784,
            "count": 2
           },
           {
            "bin_start": 3.7399166666670784,
            "bin_end": 7.479833333333697,
            "count": 0
           },
           {
            "bin_start": 7.479833333333697,
            "bin_end": 11.219750000000316,
            "count": 0
           },
           {
            "bin_start": 11.219750000000316,
            "bin_end": 14.959666666666935,
            "count": 1
           },
           {
            "bin_start": 14.959666666666935,
            "bin_end": 18.699583333333553,
            "count": 0
           },
           {
            "bin_start": 18.699583333333553,
            "bin_end": 22.43950000000017,
            "count": 0
           },
           {
            "bin_start": 22.43950000000017,
            "bin_end": 26.17941666666679,
            "count": 1
           },
           {
            "bin_start": 26.17941666666679,
            "bin_end": 29.91933333333341,
            "count": 0
           },
           {
            "bin_start": 29.91933333333341,
            "bin_end": 33.65925000000003,
            "count": 0
           },
           {
            "bin_start": 33.65925000000003,
            "bin_end": 37.39916666666665,
            "count": 1
           }
          ]
         }
        },
        {
         "name": "CO",
         "dtype": "float64",
         "stats": {
          "unique_count": 5,
          "nan_count": 0,
          "min": "0.03",
          "max": "1.54",
          "histogram": [
           {
            "bin_start": 0.03,
            "bin_end": 0.181,
            "count": 1
           },
           {
            "bin_start": 0.181,
            "bin_end": 0.33199999999999996,
            "count": 1
           },
           {
            "bin_start": 0.33199999999999996,
            "bin_end": 0.483,
            "count": 1
           },
           {
            "bin_start": 0.483,
            "bin_end": 0.634,
            "count": 0
           },
           {
            "bin_start": 0.634,
            "bin_end": 0.785,
            "count": 0
           },
           {
            "bin_start": 0.785,
            "bin_end": 0.9359999999999999,
            "count": 0
           },
           {
            "bin_start": 0.9359999999999999,
            "bin_end": 1.087,
            "count": 0
           },
           {
            "bin_start": 1.087,
            "bin_end": 1.238,
            "count": 1
           },
           {
            "bin_start": 1.238,
            "bin_end": 1.389,
            "count": 0
           },
           {
            "bin_start": 1.389,
            "bin_end": 1.54,
            "count": 1
           }
          ]
         }
        },
        {
         "name": "O3",
         "dtype": "float64",
         "stats": {
          "unique_count": 5,
          "nan_count": 0,
          "min": "7.01",
          "max": "55.23",
          "histogram": [
           {
            "bin_start": 7.01,
            "bin_end": 11.832,
            "count": 2
           },
           {
            "bin_start": 11.832,
            "bin_end": 16.654,
            "count": 0
           },
           {
            "bin_start": 16.654,
            "bin_end": 21.476,
            "count": 0
           },
           {
            "bin_start": 21.476,
            "bin_end": 26.298000000000002,
            "count": 0
           },
           {
            "bin_start": 26.298000000000002,
            "bin_end": 31.119999999999997,
            "count": 0
           },
           {
            "bin_start": 31.119999999999997,
            "bin_end": 35.942,
            "count": 0
           },
           {
            "bin_start": 35.942,
            "bin_end": 40.763999999999996,
            "count": 1
           },
           {
            "bin_start": 40.763999999999996,
            "bin_end": 45.586,
            "count": 1
           },
           {
            "bin_start": 45.586,
            "bin_end": 50.408,
            "count": 0
           },
           {
            "bin_start": 50.408,
            "bin_end": 55.23,
            "count": 1
           }
          ]
         }
        },
        {
         "name": "Datetime",
         "dtype": "datetime64[ns]",
         "stats": {
          "unique_count": 5,
          "nan_count": 0,
          "min": "2018-01-20 09:00:00",
          "max": "2020-04-06 19:00:00",
          "histogram": [
           {
            "bin_start": 1516438800000000000,
            "bin_end": 1523414880000000000,
            "count": 1
           },
           {
            "bin_start": 1523414880000000000,
            "bin_end": 1530390960000000000,
            "count": 0
           },
           {
            "bin_start": 1530390960000000000,
            "bin_end": 1537367040000000000,
            "count": 1
           },
           {
            "bin_start": 1537367040000000000,
            "bin_end": 1544343120000000000,
            "count": 0
           },
           {
            "bin_start": 1544343120000000000,
            "bin_end": 1551319200000000000,
            "count": 0
           },
           {
            "bin_start": 1551319200000000000,
            "bin_end": 1558295280000000000,
            "count": 0
           },
           {
            "bin_start": 1558295280000000000,
            "bin_end": 1565271360000000000,
            "count": 1
           },
           {
            "bin_start": 1565271360000000000,
            "bin_end": 1572247440000000000,
            "count": 0
           },
           {
            "bin_start": 1572247440000000000,
            "bin_end": 1579223520000000000,
            "count": 1
           },
           {
            "bin_start": 1579223520000000000,
            "bin_end": 1586199600000000000,
            "count": 1
           }
          ]
         }
        },
        {
         "name": "AQI",
         "dtype": "object",
         "stats": {
          "unique_count": 4,
          "nan_count": 0,
          "categories": [
           {
            "name": "Moderate",
            "count": 2
           },
           {
            "name": "Very Poor",
            "count": 1
           },
           {
            "name": "2 others",
            "count": 2
           }
          ]
         }
        },
        {
         "name": "_deepnote_index_column",
         "dtype": "int64"
        }
       ],
       "rows": [
        {
         "BigUrbanCity": "1",
         "PM10": "272.7729166666668",
         "PM2_5": "174.94583333333318",
         "NOx": "4.594843024581983e-13",
         "CO": "1.17",
         "O3": "7.01",
         "Datetime": "2019-12-22 07:00:00",
         "AQI": "Very Poor",
         "_deepnote_index_column": "0"
        },
        {
         "BigUrbanCity": "1",
         "PM10": "144.33416666666685",
         "PM2_5": "48.97833333333296",
         "NOx": "24.136249999999997",
         "CO": "1.54",
         "O3": "55.23",
         "Datetime": "2018-07-08 02:00:00",
         "AQI": "Moderate",
         "_deepnote_index_column": "1"
        },
        {
         "BigUrbanCity": "0",
         "PM10": "128.9375",
         "PM2_5": "71.375",
         "NOx": "37.39916666666665",
         "CO": "0.03",
         "O3": "43.1",
         "Datetime": "2018-01-20 09:00:00",
         "AQI": "Moderate",
         "_deepnote_index_column": "2"
        },
        {
         "BigUrbanCity": "0",
         "PM10": "33.5",
         "PM2_5": "13.03125",
         "NOx": "14.013333333333517",
         "CO": "0.33",
         "O3": "37.12",
         "Datetime": "2019-07-08 20:00:00",
         "AQI": "Good",
         "_deepnote_index_column": "3"
        },
        {
         "BigUrbanCity": "0",
         "PM10": "41.88842105263096",
         "PM2_5": "33.066315789473535",
         "NOx": "3.652499999999476",
         "CO": "0.39",
         "O3": "11.25",
         "Datetime": "2020-04-06 19:00:00",
         "AQI": "Satisfactory",
         "_deepnote_index_column": "4"
        }
       ]
      },
      "text/plain": "   BigUrbanCity        PM10       PM2_5           NOx    CO     O3  \\\n0             1  272.772917  174.945833  4.594843e-13  1.17   7.01   \n1             1  144.334167   48.978333  2.413625e+01  1.54  55.23   \n2             0  128.937500   71.375000  3.739917e+01  0.03  43.10   \n3             0   33.500000   13.031250  1.401333e+01  0.33  37.12   \n4             0   41.888421   33.066316  3.652500e+00  0.39  11.25   \n\n             Datetime           AQI  \n0 2019-12-22 07:00:00     Very Poor  \n1 2018-07-08 02:00:00      Moderate  \n2 2018-01-20 09:00:00      Moderate  \n3 2019-07-08 20:00:00          Good  \n4 2020-04-06 19:00:00  Satisfactory  ",
      "text/html": "<div>\n<style scoped>\n    .dataframe tbody tr th:only-of-type {\n        vertical-align: middle;\n    }\n\n    .dataframe tbody tr th {\n        vertical-align: top;\n    }\n\n    .dataframe thead th {\n        text-align: right;\n    }\n</style>\n<table border=\"1\" class=\"dataframe\">\n  <thead>\n    <tr style=\"text-align: right;\">\n      <th></th>\n      <th>BigUrbanCity</th>\n      <th>PM10</th>\n      <th>PM2_5</th>\n      <th>NOx</th>\n      <th>CO</th>\n      <th>O3</th>\n      <th>Datetime</th>\n      <th>AQI</th>\n    </tr>\n  </thead>\n  <tbody>\n    <tr>\n      <th>0</th>\n      <td>1</td>\n      <td>272.772917</td>\n      <td>174.945833</td>\n      <td>4.594843e-13</td>\n      <td>1.17</td>\n      <td>7.01</td>\n      <td>2019-12-22 07:00:00</td>\n      <td>Very Poor</td>\n    </tr>\n    <tr>\n      <th>1</th>\n      <td>1</td>\n      <td>144.334167</td>\n      <td>48.978333</td>\n      <td>2.413625e+01</td>\n      <td>1.54</td>\n      <td>55.23</td>\n      <td>2018-07-08 02:00:00</td>\n      <td>Moderate</td>\n    </tr>\n    <tr>\n      <th>2</th>\n      <td>0</td>\n      <td>128.937500</td>\n      <td>71.375000</td>\n      <td>3.739917e+01</td>\n      <td>0.03</td>\n      <td>43.10</td>\n      <td>2018-01-20 09:00:00</td>\n      <td>Moderate</td>\n    </tr>\n    <tr>\n      <th>3</th>\n      <td>0</td>\n      <td>33.500000</td>\n      <td>13.031250</td>\n      <td>1.401333e+01</td>\n      <td>0.33</td>\n      <td>37.12</td>\n      <td>2019-07-08 20:00:00</td>\n      <td>Good</td>\n    </tr>\n    <tr>\n      <th>4</th>\n      <td>0</td>\n      <td>41.888421</td>\n      <td>33.066316</td>\n      <td>3.652500e+00</td>\n      <td>0.39</td>\n      <td>11.25</td>\n      <td>2020-04-06 19:00:00</td>\n      <td>Satisfactory</td>\n    </tr>\n  </tbody>\n</table>\n</div>"
     },
     "metadata": {}
    }
   ],
   "execution_count": 3
  },
  {
   "cell_type": "markdown",
   "source": [
    "<font size=4 color=#009999> <br> 1.2 - SPLIT THE DATASET </font> <br> \n",
    "\n",
    "Data science projects begin by the division the **whole** dataset into a **training** and a **test** set. The subsequent analysis and decisions (i.e. features selection, pre-processing, model selection, etc.) are, then, conducted only on the _training set_ to stay statistically significant during the **testing phase**. The latter will, thus, only be conducted on the _test set_.  \n",
    "\n",
    "We invite you then to **split** [<sup>2</sup>](#fn2) the dataset into a _training_ and a _test_. The proportion of each subset is at **your own discretion**.\n",
    "\n",
    "\n",
    "<span id=\"fn2\"> [2] N.B. Set the seed of your random split with `random_state = 42` to obtain reproducible results.</span>\n",
    "\n",
    "\n",
    "\n",
    "<div class=\"alert alert-warning\">\n",
    "    <b>[Question 1.2]</b> What are the drawbacks (if any) of choosing a small test set (in proportion)? On the contrary, what are the consequences (if any) of a relatively large testing set (in proportion)? <br>\n",
    "</div> "
   ],
   "metadata": {
    "cell_id": "5bfd91c55bc84707bc399a6b11dd756b",
    "deepnote_cell_type": "markdown"
   }
  },
  {
   "cell_type": "code",
   "source": [
    "\"\"\"\n",
    "CELL N°2 : SPLIT THE DATASET    \n",
    "\n",
    "@pre:  'df' a pandas frame with the entire dataset\n",
    "@post: 2 pandas frames with the train and test sets\n",
    "\"\"\"\n",
    "\n",
    "import sklearn.model_selection\n",
    "\n",
    "#############################\n",
    "# Start : \n",
    "#############################\n",
    "\n",
    "df_train, df_test = sklearn.model_selection.train_test_split(df, test_size=0.3, random_state=42)\n",
    "\n",
    "##########################\n",
    "# \n",
    "#########################"
   ],
   "metadata": {
    "cell_id": "ea0bfade6f3644cf9b4f7ad791cbea59",
    "source_hash": "54fd3025",
    "execution_start": 1670614548070,
    "execution_millis": 123,
    "deepnote_to_be_reexecuted": false,
    "deepnote_cell_type": "code"
   },
   "outputs": [],
   "execution_count": 4
  },
  {
   "cell_type": "markdown",
   "source": [
    "<br>\n",
    "\n",
    "<br><font size=7 color=#009999> <b>PART 2 - EXPLORATORY DATA ANALYSIS </b> </font> <br><br>\n",
    "\n",
    "\n",
    "We **analyze** the distribution of the features _AQI_ in the binary scenario. Namely, air quality is considered either <ol> <li>**bad** (AQI : Poor, Very Poor, Severe) </li> <li>**good** (AQI : Good, Satisfactory, Moderate)</li> </ol>\n",
    "\n",
    "We conduct the analysis on the <i>training set</i>, avoiding therefore any modelling decision based on _unseen_ data (<i>test set</i>). In most cases, we assume that the distribution of this latter set stays similar to the <i>training set</i>."
   ],
   "metadata": {
    "cell_id": "2ae29adc2d5248fa92197f515a28025d",
    "deepnote_cell_type": "markdown"
   }
  },
  {
   "cell_type": "markdown",
   "source": [
    "<font size=4 color=#009999> <br> 2.1. Binary targets  </font> <br>\n",
    "\n",
    "<div class=\"alert alert-warning\">\n",
    "    <b>[Question 2.1]</b> Are the binary classes balanced? What are the proportions of data in each class? Briefly, justify your answer and add a visualization.\n",
    "</div> \n"
   ],
   "metadata": {
    "cell_id": "11489d1a7be44eb6b2b4c2009dbc2e2a",
    "deepnote_cell_type": "markdown"
   }
  },
  {
   "cell_type": "code",
   "source": [
    "\"\"\"\n",
    "CELL N°3 : Binary targets: proportion and binarization\n",
    "   \n",
    "@pre:  Training dataframe  \n",
    "@post: Proportion of each binary class in this train set, a pie chart representing it, \n",
    "a modified training dataframe with a new column 'AQI_binary' continaining the binary targets \n",
    "\"\"\"\n",
    "\n",
    "#############################\n",
    "# Start :\n",
    "#############################\n",
    "\n",
    "#We analyze the distribution of the features AQI in the binary scenario. Namely, air quality is considered either \n",
    "#\n",
    "#     \n",
    "#    bad (AQI : Poor, Very Poor, Severe) \n",
    "     \n",
    "df_train['AQI_binary'] = [int(el in [\"Poor\", \"Very Poor\", \"Severe\"]) for el in df_train['AQI'].values]\n",
    "df_test['AQI_binary'] = [int(el in [\"Poor\", \"Very Poor\", \"Severe\"]) for el in df_test['AQI'].values]\n",
    "\n",
    "plt.title(\"Air Quality Index in binary\")\n",
    "plt.pie(df_train['AQI_binary'].value_counts().values, labels=[\"bad\", \"good\"], explode=[0.1,0], autopct='%1.1f%%', shadow=True, startangle=90)\n",
    "\n",
    "df_train.head()\n",
    "\n",
    "##########################\n",
    "# End : \n",
    "#########################"
   ],
   "metadata": {
    "cell_id": "faeea7ab269f40cb8188935a729df852",
    "source_hash": "a266cf06",
    "execution_start": 1670614548201,
    "execution_millis": 287,
    "deepnote_to_be_reexecuted": false,
    "deepnote_cell_type": "code"
   },
   "outputs": [
    {
     "output_type": "execute_result",
     "execution_count": 5,
     "data": {
      "text/plain": "       BigUrbanCity        PM10       PM2_5        NOx    CO      O3  \\\n16916             0   17.062500    6.718750   6.562083  1.31   29.40   \n9253              0   51.333333   20.020833   9.533750  0.61  111.23   \n23436             0  122.515625   83.390625  11.496250  0.97   58.33   \n9858              1  169.291667  132.622917  46.358333  0.00  174.17   \n44240             0   79.362500   37.987500   9.750000  0.83   60.35   \n\n                 Datetime           AQI  AQI_binary  \n16916 2018-08-17 05:00:00  Satisfactory           0  \n9253  2018-06-30 14:00:00      Moderate           0  \n23436 2019-11-26 03:00:00      Moderate           0  \n9858  2017-10-15 18:00:00     Very Poor           1  \n44240 2019-05-30 00:00:00  Satisfactory           0  ",
      "text/html": "<div>\n<style scoped>\n    .dataframe tbody tr th:only-of-type {\n        vertical-align: middle;\n    }\n\n    .dataframe tbody tr th {\n        vertical-align: top;\n    }\n\n    .dataframe thead th {\n        text-align: right;\n    }\n</style>\n<table border=\"1\" class=\"dataframe\">\n  <thead>\n    <tr style=\"text-align: right;\">\n      <th></th>\n      <th>BigUrbanCity</th>\n      <th>PM10</th>\n      <th>PM2_5</th>\n      <th>NOx</th>\n      <th>CO</th>\n      <th>O3</th>\n      <th>Datetime</th>\n      <th>AQI</th>\n      <th>AQI_binary</th>\n    </tr>\n  </thead>\n  <tbody>\n    <tr>\n      <th>16916</th>\n      <td>0</td>\n      <td>17.062500</td>\n      <td>6.718750</td>\n      <td>6.562083</td>\n      <td>1.31</td>\n      <td>29.40</td>\n      <td>2018-08-17 05:00:00</td>\n      <td>Satisfactory</td>\n      <td>0</td>\n    </tr>\n    <tr>\n      <th>9253</th>\n      <td>0</td>\n      <td>51.333333</td>\n      <td>20.020833</td>\n      <td>9.533750</td>\n      <td>0.61</td>\n      <td>111.23</td>\n      <td>2018-06-30 14:00:00</td>\n      <td>Moderate</td>\n      <td>0</td>\n    </tr>\n    <tr>\n      <th>23436</th>\n      <td>0</td>\n      <td>122.515625</td>\n      <td>83.390625</td>\n      <td>11.496250</td>\n      <td>0.97</td>\n      <td>58.33</td>\n      <td>2019-11-26 03:00:00</td>\n      <td>Moderate</td>\n      <td>0</td>\n    </tr>\n    <tr>\n      <th>9858</th>\n      <td>1</td>\n      <td>169.291667</td>\n      <td>132.622917</td>\n      <td>46.358333</td>\n      <td>0.00</td>\n      <td>174.17</td>\n      <td>2017-10-15 18:00:00</td>\n      <td>Very Poor</td>\n      <td>1</td>\n    </tr>\n    <tr>\n      <th>44240</th>\n      <td>0</td>\n      <td>79.362500</td>\n      <td>37.987500</td>\n      <td>9.750000</td>\n      <td>0.83</td>\n      <td>60.35</td>\n      <td>2019-05-30 00:00:00</td>\n      <td>Satisfactory</td>\n      <td>0</td>\n    </tr>\n  </tbody>\n</table>\n</div>"
     },
     "metadata": {}
    },
    {
     "data": {
      "text/plain": "<Figure size 640x480 with 1 Axes>",
      "image/png": "[encoded data removed]"
     },
     "metadata": {
      "image/png": {
       "width": 389,
       "height": 411
      }
     },
     "output_type": "display_data"
    }
   ],
   "execution_count": 5
  },
  {
   "cell_type": "markdown",
   "source": [
    "<font size=4 color=#009999> 2.2. Cyclical features </font> <br>\n",
    "\n",
    "<b>Establish</b> a <i>cyclical</i> feature transformation and store the new features in the corresponding variables. \n",
    "\n",
    "<span id=\"fn3\"> Many features are cyclical in nature. One example is time: months, days, weekdays, hours, minutes, seconds etc. are all cyclical.</span> "
   ],
   "metadata": {
    "cell_id": "488834e2931445abae310f605e18e9d6",
    "deepnote_cell_type": "markdown"
   }
  },
  {
   "cell_type": "markdown",
   "source": [
    "<div class=\"alert alert-warning\">\n",
    "    <b>[Question 2.2]</b> Explain your transformation and the need to use cyclical features in some cases. What is the point to not simply encode features in a categorical way (e.g. morning=0, afternoon=1, evening=2, night=3)? \n",
    "</div>  \n",
    "\n",
    "<i>HINT</i>: what happens between 23:00:00 and 00:00:00 ?"
   ],
   "metadata": {
    "cell_id": "f74256b7db6547f6850c30d093065796",
    "deepnote_cell_type": "markdown"
   }
  },
  {
   "cell_type": "code",
   "source": [
    "\"\"\"\n",
    "HINT CELL : This cell is intended to help you understand CELL N°4 (bis) and to answer the corresponding questions. \n",
    "Observe how the final plot looks like a clock ;)\n",
    "\"\"\"\n",
    "\n",
    "hours = [i for i in range(24)] * 2\n",
    "plt.scatter(np.arange(len(hours)), hours, label='data points')\n",
    "plt.plot(np.arange(len(hours)), hours, color='red')\n",
    "plt.grid()\n",
    "plt.title('Visualization')\n",
    "plt.legend()\n",
    "plt.ylabel('hour of the corresponding day')\n",
    "plt.xlabel('cumulative hour')\n",
    "plt.savefig(\"hours.pdf\")\n",
    "plt.show()\n",
    "\n",
    "sin_hours = np.sin(2 * np.pi * np.array(hours) / 24.0)\n",
    "cos_hours = np.cos(2 * np.pi * np.array(hours) / 24.0)\n",
    "\n",
    "plt.subplot(2, 2, 1)\n",
    "plt.plot(hours[0:24], sin_hours[0:24])\n",
    "plt.title('sinus component')\n",
    "plt.subplot(2, 2, 2)\n",
    "plt.plot(hours[0:24], cos_hours[0:24])\n",
    "plt.title('cosinus component')\n",
    "\n",
    "ax, fig = plt.subplots()\n",
    "fig.set_aspect('equal')\n",
    "plt.xlabel('sin_hour')\n",
    "plt.ylabel('cos_hour')\n",
    "plt.scatter(sin_hours[0:24], cos_hours[0:24])\n",
    "plt.plot(sin_hours[0:25], cos_hours[0:25], 'red')\n",
    "plt.show()\n"
   ],
   "metadata": {
    "cell_id": "c2250da2d0ff4125aa6b6a8fc415d8f2",
    "source_hash": "e617bb5e",
    "execution_start": 1670614548492,
    "execution_millis": 875,
    "deepnote_to_be_reexecuted": false,
    "deepnote_cell_type": "code"
   },
   "outputs": [
    {
     "data": {
      "text/plain": "<Figure size 640x480 with 1 Axes>",
      "image/png": "[encoded data removed]"
     },
     "metadata": {
      "image/png": {
       "width": 562,
       "height": 455
      }
     },
     "output_type": "display_data"
    },
    {
     "data": {
      "text/plain": "<Figure size 640x480 with 2 Axes>",
      "image/png": "[encoded data removed]"
     },
     "metadata": {
      "image/png": {
       "width": 559,
       "height": 234
      }
     },
     "output_type": "display_data"
    },
    {
     "data": {
      "text/plain": "<Figure size 640x480 with 1 Axes>",
      "image/png": "[encoded data removed]"
     },
     "metadata": {
      "image/png": {
       "width": 461,
       "height": 433
      }
     },
     "output_type": "display_data"
    }
   ],
   "execution_count": 6
  },
  {
   "cell_type": "code",
   "source": [
    "\"\"\"\n",
    "CELL N°4 : Time feature conversion\n",
    "   \n",
    "@pre:  Training and testing dataframe\n",
    "@post: Training and testing dataframe with a new colum 'hour' filled with the corresponding hour of the day (integer)\n",
    "\n",
    "DO NOT FORGET TO APPLY TRANSFORMATIONS TO BOTH data_train AND data_test\n",
    "\"\"\"\n",
    "from datetime import datetime\n",
    "\n",
    "#############################\n",
    "# Start : \n",
    "#############################\n",
    "\n",
    "df_train[\"hour\"] = [x.hour for x in df_train.pop(\"Datetime\")]\n",
    "df_test[\"hour\"] = [x.hour for x in df_test.pop(\"Datetime\")]\n",
    "df_train.head()\n",
    "\n",
    "##########################\n",
    "# End : \n",
    "########################"
   ],
   "metadata": {
    "cell_id": "1de6a07da0e54377a1406f4748440c51",
    "source_hash": "42e61489",
    "execution_start": 1670614549414,
    "execution_millis": 9,
    "deepnote_to_be_reexecuted": false,
    "deepnote_cell_type": "code"
   },
   "outputs": [
    {
     "output_type": "execute_result",
     "execution_count": 7,
     "data": {
      "application/vnd.deepnote.dataframe.v3+json": {
       "column_count": 9,
       "row_count": 5,
       "columns": [
        {
         "name": "BigUrbanCity",
         "dtype": "int64",
         "stats": {
          "unique_count": 2,
          "nan_count": 0,
          "min": "0",
          "max": "1",
          "histogram": [
           {
            "bin_start": 0,
            "bin_end": 0.1,
            "count": 4
           },
           {
            "bin_start": 0.1,
            "bin_end": 0.2,
            "count": 0
           },
           {
            "bin_start": 0.2,
            "bin_end": 0.30000000000000004,
            "count": 0
           },
           {
            "bin_start": 0.30000000000000004,
            "bin_end": 0.4,
            "count": 0
           },
           {
            "bin_start": 0.4,
            "bin_end": 0.5,
            "count": 0
           },
           {
            "bin_start": 0.5,
            "bin_end": 0.6000000000000001,
            "count": 0
           },
           {
            "bin_start": 0.6000000000000001,
            "bin_end": 0.7000000000000001,
            "count": 0
           },
           {
            "bin_start": 0.7000000000000001,
            "bin_end": 0.8,
            "count": 0
           },
           {
            "bin_start": 0.8,
            "bin_end": 0.9,
            "count": 0
           },
           {
            "bin_start": 0.9,
            "bin_end": 1,
            "count": 1
           }
          ]
         }
        },
        {
         "name": "PM10",
         "dtype": "float64",
         "stats": {
          "unique_count": 5,
          "nan_count": 0,
          "min": "17.0625",
          "max": "169.29166666666686",
          "histogram": [
           {
            "bin_start": 17.0625,
            "bin_end": 32.285416666666684,
            "count": 1
           },
           {
            "bin_start": 32.285416666666684,
            "bin_end": 47.50833333333337,
            "count": 0
           },
           {
            "bin_start": 47.50833333333337,
            "bin_end": 62.73125000000006,
            "count": 1
           },
           {
            "bin_start": 62.73125000000006,
            "bin_end": 77.95416666666674,
            "count": 0
           },
           {
            "bin_start": 77.95416666666674,
            "bin_end": 93.17708333333343,
            "count": 1
           },
           {
            "bin_start": 93.17708333333343,
            "bin_end": 108.40000000000012,
            "count": 0
           },
           {
            "bin_start": 108.40000000000012,
            "bin_end": 123.6229166666668,
            "count": 1
           },
           {
            "bin_start": 123.6229166666668,
            "bin_end": 138.84583333333347,
            "count": 0
           },
           {
            "bin_start": 138.84583333333347,
            "bin_end": 154.06875000000016,
            "count": 0
           },
           {
            "bin_start": 154.06875000000016,
            "bin_end": 169.29166666666686,
            "count": 1
           }
          ]
         }
        },
        {
         "name": "PM2_5",
         "dtype": "float64",
         "stats": {
          "unique_count": 5,
          "nan_count": 0,
          "min": "6.71875",
          "max": "132.6229166666666",
          "histogram": [
           {
            "bin_start": 6.71875,
            "bin_end": 19.309166666666663,
            "count": 1
           },
           {
            "bin_start": 19.309166666666663,
            "bin_end": 31.89958333333332,
            "count": 1
           },
           {
            "bin_start": 31.89958333333332,
            "bin_end": 44.48999999999998,
            "count": 1
           },
           {
            "bin_start": 44.48999999999998,
            "bin_end": 57.08041666666664,
            "count": 0
           },
           {
            "bin_start": 57.08041666666664,
            "bin_end": 69.6708333333333,
            "count": 0
           },
           {
            "bin_start": 69.6708333333333,
            "bin_end": 82.26124999999996,
            "count": 0
           },
           {
            "bin_start": 82.26124999999996,
            "bin_end": 94.85166666666663,
            "count": 1
           },
           {
            "bin_start": 94.85166666666663,
            "bin_end": 107.44208333333329,
            "count": 0
           },
           {
            "bin_start": 107.44208333333329,
            "bin_end": 120.03249999999994,
            "count": 0
           },
           {
            "bin_start": 120.03249999999994,
            "bin_end": 132.6229166666666,
            "count": 1
           }
          ]
         }
        },
        {
         "name": "NOx",
         "dtype": "float64",
         "stats": {
          "unique_count": 5,
          "nan_count": 0,
          "min": "6.562083333333313",
          "max": "46.35833333333351",
          "histogram": [
           {
            "bin_start": 6.562083333333313,
            "bin_end": 10.541708333333332,
            "count": 3
           },
           {
            "bin_start": 10.541708333333332,
            "bin_end": 14.521333333333352,
            "count": 1
           },
           {
            "bin_start": 14.521333333333352,
            "bin_end": 18.500958333333372,
            "count": 0
           },
           {
            "bin_start": 18.500958333333372,
            "bin_end": 22.480583333333392,
            "count": 0
           },
           {
            "bin_start": 22.480583333333392,
            "bin_end": 26.460208333333412,
            "count": 0
           },
           {
            "bin_start": 26.460208333333412,
            "bin_end": 30.439833333333432,
            "count": 0
           },
           {
            "bin_start": 30.439833333333432,
            "bin_end": 34.41945833333345,
            "count": 0
           },
           {
            "bin_start": 34.41945833333345,
            "bin_end": 38.39908333333347,
            "count": 0
           },
           {
            "bin_start": 38.39908333333347,
            "bin_end": 42.37870833333349,
            "count": 0
           },
           {
            "bin_start": 42.37870833333349,
            "bin_end": 46.35833333333351,
            "count": 1
           }
          ]
         }
        },
        {
         "name": "CO",
         "dtype": "float64",
         "stats": {
          "unique_count": 5,
          "nan_count": 0,
          "min": "0.0",
          "max": "1.31",
          "histogram": [
           {
            "bin_start": 0,
            "bin_end": 0.131,
            "count": 1
           },
           {
            "bin_start": 0.131,
            "bin_end": 0.262,
            "count": 0
           },
           {
            "bin_start": 0.262,
            "bin_end": 0.393,
            "count": 0
           },
           {
            "bin_start": 0.393,
            "bin_end": 0.524,
            "count": 0
           },
           {
            "bin_start": 0.524,
            "bin_end": 0.655,
            "count": 1
           },
           {
            "bin_start": 0.655,
            "bin_end": 0.786,
            "count": 0
           },
           {
            "bin_start": 0.786,
            "bin_end": 0.917,
            "count": 1
           },
           {
            "bin_start": 0.917,
            "bin_end": 1.048,
            "count": 1
           },
           {
            "bin_start": 1.048,
            "bin_end": 1.179,
            "count": 0
           },
           {
            "bin_start": 1.179,
            "bin_end": 1.31,
            "count": 1
           }
          ]
         }
        },
        {
         "name": "O3",
         "dtype": "float64",
         "stats": {
          "unique_count": 5,
          "nan_count": 0,
          "min": "29.4",
          "max": "174.17",
          "histogram": [
           {
            "bin_start": 29.4,
            "bin_end": 43.876999999999995,
            "count": 1
           },
           {
            "bin_start": 43.876999999999995,
            "bin_end": 58.354,
            "count": 1
           },
           {
            "bin_start": 58.354,
            "bin_end": 72.83099999999999,
            "count": 1
           },
           {
            "bin_start": 72.83099999999999,
            "bin_end": 87.30799999999999,
            "count": 0
           },
           {
            "bin_start": 87.30799999999999,
            "bin_end": 101.785,
            "count": 0
           },
           {
            "bin_start": 101.785,
            "bin_end": 116.262,
            "count": 1
           },
           {
            "bin_start": 116.262,
            "bin_end": 130.73899999999998,
            "count": 0
           },
           {
            "bin_start": 130.73899999999998,
            "bin_end": 145.21599999999998,
            "count": 0
           },
           {
            "bin_start": 145.21599999999998,
            "bin_end": 159.69299999999998,
            "count": 0
           },
           {
            "bin_start": 159.69299999999998,
            "bin_end": 174.17,
            "count": 1
           }
          ]
         }
        },
        {
         "name": "AQI",
         "dtype": "object",
         "stats": {
          "unique_count": 3,
          "nan_count": 0,
          "categories": [
           {
            "name": "Satisfactory",
            "count": 2
           },
           {
            "name": "Moderate",
            "count": 2
           },
           {
            "name": "Very Poor",
            "count": 1
           }
          ]
         }
        },
        {
         "name": "AQI_binary",
         "dtype": "int64",
         "stats": {
          "unique_count": 2,
          "nan_count": 0,
          "min": "0",
          "max": "1",
          "histogram": [
           {
            "bin_start": 0,
            "bin_end": 0.1,
            "count": 4
           },
           {
            "bin_start": 0.1,
            "bin_end": 0.2,
            "count": 0
           },
           {
            "bin_start": 0.2,
            "bin_end": 0.30000000000000004,
            "count": 0
           },
           {
            "bin_start": 0.30000000000000004,
            "bin_end": 0.4,
            "count": 0
           },
           {
            "bin_start": 0.4,
            "bin_end": 0.5,
            "count": 0
           },
           {
            "bin_start": 0.5,
            "bin_end": 0.6000000000000001,
            "count": 0
           },
           {
            "bin_start": 0.6000000000000001,
            "bin_end": 0.7000000000000001,
            "count": 0
           },
           {
            "bin_start": 0.7000000000000001,
            "bin_end": 0.8,
            "count": 0
           },
           {
            "bin_start": 0.8,
            "bin_end": 0.9,
            "count": 0
           },
           {
            "bin_start": 0.9,
            "bin_end": 1,
            "count": 1
           }
          ]
         }
        },
        {
         "name": "hour",
         "dtype": "int64",
         "stats": {
          "unique_count": 5,
          "nan_count": 0,
          "min": "0",
          "max": "18",
          "histogram": [
           {
            "bin_start": 0,
            "bin_end": 1.8,
            "count": 1
           },
           {
            "bin_start": 1.8,
            "bin_end": 3.6,
            "count": 1
           },
           {
            "bin_start": 3.6,
            "bin_end": 5.4,
            "count": 1
           },
           {
            "bin_start": 5.4,
            "bin_end": 7.2,
            "count": 0
           },
           {
            "bin_start": 7.2,
            "bin_end": 9,
            "count": 0
           },
           {
            "bin_start": 9,
            "bin_end": 10.8,
            "count": 0
           },
           {
            "bin_start": 10.8,
            "bin_end": 12.6,
            "count": 0
           },
           {
            "bin_start": 12.6,
            "bin_end": 14.4,
            "count": 1
           },
           {
            "bin_start": 14.4,
            "bin_end": 16.2,
            "count": 0
           },
           {
            "bin_start": 16.2,
            "bin_end": 18,
            "count": 1
           }
          ]
         }
        },
        {
         "name": "_deepnote_index_column",
         "dtype": "int64"
        }
       ],
       "rows": [
        {
         "BigUrbanCity": "0",
         "PM10": "17.0625",
         "PM2_5": "6.71875",
         "NOx": "6.562083333333313",
         "CO": "1.31",
         "O3": "29.4",
         "AQI": "Satisfactory",
         "AQI_binary": "0",
         "hour": "5",
         "_deepnote_index_column": "16916"
        },
        {
         "BigUrbanCity": "0",
         "PM10": "51.333333333333336",
         "PM2_5": "20.02083333333333",
         "NOx": "9.53374999999997",
         "CO": "0.61",
         "O3": "111.23",
         "AQI": "Moderate",
         "AQI_binary": "0",
         "hour": "14",
         "_deepnote_index_column": "9253"
        },
        {
         "BigUrbanCity": "0",
         "PM10": "122.515625",
         "PM2_5": "83.390625",
         "NOx": "11.49625000000027",
         "CO": "0.97",
         "O3": "58.33",
         "AQI": "Moderate",
         "AQI_binary": "0",
         "hour": "3",
         "_deepnote_index_column": "23436"
        },
        {
         "BigUrbanCity": "1",
         "PM10": "169.29166666666686",
         "PM2_5": "132.6229166666666",
         "NOx": "46.35833333333351",
         "CO": "0.0",
         "O3": "174.17",
         "AQI": "Very Poor",
         "AQI_binary": "1",
         "hour": "18",
         "_deepnote_index_column": "9858"
        },
        {
         "BigUrbanCity": "0",
         "PM10": "79.3625",
         "PM2_5": "37.9875",
         "NOx": "9.750000000000226",
         "CO": "0.83",
         "O3": "60.35",
         "AQI": "Satisfactory",
         "AQI_binary": "0",
         "hour": "0",
         "_deepnote_index_column": "44240"
        }
       ]
      },
      "text/plain": "       BigUrbanCity        PM10       PM2_5        NOx    CO      O3  \\\n16916             0   17.062500    6.718750   6.562083  1.31   29.40   \n9253              0   51.333333   20.020833   9.533750  0.61  111.23   \n23436             0  122.515625   83.390625  11.496250  0.97   58.33   \n9858              1  169.291667  132.622917  46.358333  0.00  174.17   \n44240             0   79.362500   37.987500   9.750000  0.83   60.35   \n\n                AQI  AQI_binary  hour  \n16916  Satisfactory           0     5  \n9253       Moderate           0    14  \n23436      Moderate           0     3  \n9858      Very Poor           1    18  \n44240  Satisfactory           0     0  ",
      "text/html": "<div>\n<style scoped>\n    .dataframe tbody tr th:only-of-type {\n        vertical-align: middle;\n    }\n\n    .dataframe tbody tr th {\n        vertical-align: top;\n    }\n\n    .dataframe thead th {\n        text-align: right;\n    }\n</style>\n<table border=\"1\" class=\"dataframe\">\n  <thead>\n    <tr style=\"text-align: right;\">\n      <th></th>\n      <th>BigUrbanCity</th>\n      <th>PM10</th>\n      <th>PM2_5</th>\n      <th>NOx</th>\n      <th>CO</th>\n      <th>O3</th>\n      <th>AQI</th>\n      <th>AQI_binary</th>\n      <th>hour</th>\n    </tr>\n  </thead>\n  <tbody>\n    <tr>\n      <th>16916</th>\n      <td>0</td>\n      <td>17.062500</td>\n      <td>6.718750</td>\n      <td>6.562083</td>\n      <td>1.31</td>\n      <td>29.40</td>\n      <td>Satisfactory</td>\n      <td>0</td>\n      <td>5</td>\n    </tr>\n    <tr>\n      <th>9253</th>\n      <td>0</td>\n      <td>51.333333</td>\n      <td>20.020833</td>\n      <td>9.533750</td>\n      <td>0.61</td>\n      <td>111.23</td>\n      <td>Moderate</td>\n      <td>0</td>\n      <td>14</td>\n    </tr>\n    <tr>\n      <th>23436</th>\n      <td>0</td>\n      <td>122.515625</td>\n      <td>83.390625</td>\n      <td>11.496250</td>\n      <td>0.97</td>\n      <td>58.33</td>\n      <td>Moderate</td>\n      <td>0</td>\n      <td>3</td>\n    </tr>\n    <tr>\n      <th>9858</th>\n      <td>1</td>\n      <td>169.291667</td>\n      <td>132.622917</td>\n      <td>46.358333</td>\n      <td>0.00</td>\n      <td>174.17</td>\n      <td>Very Poor</td>\n      <td>1</td>\n      <td>18</td>\n    </tr>\n    <tr>\n      <th>44240</th>\n      <td>0</td>\n      <td>79.362500</td>\n      <td>37.987500</td>\n      <td>9.750000</td>\n      <td>0.83</td>\n      <td>60.35</td>\n      <td>Satisfactory</td>\n      <td>0</td>\n      <td>0</td>\n    </tr>\n  </tbody>\n</table>\n</div>"
     },
     "metadata": {}
    }
   ],
   "execution_count": 7
  },
  {
   "cell_type": "code",
   "source": [
    "\"\"\"\n",
    "CELL N°4 ( BIS) : Cyclical features transformation\n",
    "   \n",
    "@pre:  Training and testing dataframe\n",
    "@post: Training and testing dataframe with two new columns 'sin_hour' and 'cos_hour' with hours of the day encoded in a cyclical way\n",
    "       \n",
    "Afterwards, you can drop the column 'Datetime', useless from now on :) \n",
    "\n",
    "DO NOT FORGET TO APPLY TRANSFORMATIONS TO BOTH data_train AND data_test\n",
    "\"\"\"\n",
    "\n",
    "#############################\n",
    "# Start : \n",
    "#############################\n",
    "\n",
    "df_test['sin_hour'] = np.sin(2 * np.pi * df_test[\"hour\"] / 24)\n",
    "df_test['cos_hour'] = np.cos(2 * np.pi * df_test[\"hour\"] / 24)\n",
    "df_test.drop([\"hour\"], axis=1, inplace=True, errors='ignore')\n",
    "\n",
    "df_train['sin_hour'] = np.sin(2 * np.pi * df_train[\"hour\"] / 24)\n",
    "df_train['cos_hour'] = np.cos(2 * np.pi * df_train[\"hour\"] / 24)\n",
    "df_train.drop([\"hour\"], axis=1, inplace=True, errors='ignore')\n",
    "\n",
    "\n",
    "##########################\n",
    "# End : \n",
    "########################"
   ],
   "metadata": {
    "cell_id": "15fc4fc006e147bbb25c886e2f8746bf",
    "source_hash": "163dfe56",
    "execution_start": 1670614549478,
    "execution_millis": 0,
    "deepnote_to_be_reexecuted": false,
    "deepnote_cell_type": "code"
   },
   "outputs": [],
   "execution_count": 8
  },
  {
   "cell_type": "markdown",
   "source": [
    "<font size=4 color=#009999> <br> 2.3. Correlation matrix </font> <br>\n",
    "\n",
    "__Compute__ and __plot__ the correlation matrix. For the plot, you can use the function `imshow` or `matshow` from `matplotlib`."
   ],
   "metadata": {
    "cell_id": "60d382ff59304eb49b788f040741e34e",
    "deepnote_cell_type": "markdown"
   }
  },
  {
   "cell_type": "markdown",
   "source": [
    "<div class=\"alert alert-warning\">\n",
    "    <b>[Question 2.3]</b> With the help of your plot and numerical results of cell 4, write your observations down.  <br\n",
    "                                                                                                                \n",
    "</div> "
   ],
   "metadata": {
    "cell_id": "7ef63315c5ff4f5e9a392f08cc7a7d81",
    "deepnote_cell_type": "markdown"
   }
  },
  {
   "cell_type": "code",
   "source": [
    "\"\"\"\n",
    "CELL N°5 : CORRELATION MATRIX\n",
    "   \n",
    "@pre:  Training dataframe  \n",
    "@post: The correlation matrix between the features (target incl.) and its plot    \n",
    "\"\"\"\n",
    "\n",
    "\n",
    "#############################\n",
    "# Start : \n",
    "#############################\n",
    "\n",
    "corr_matrix = df_train.corr()\n",
    "plt.figure(figsize=(9,9))\n",
    "\n",
    "print(\"Heatmap of Correlations:\")\n",
    "correl = sns.heatmap(corr_matrix, annot=True,linewidths=.5, cmap=\"coolwarm\")\n",
    "fig = correl.get_figure()\n",
    "fig.savefig(\"correl.pdf\")\n",
    "\n",
    "##########################\n",
    "# End : \n",
    "#########################"
   ],
   "metadata": {
    "cell_id": "be4965f8a5084bc5ae28a8ba2f486895",
    "source_hash": "9153b1bb",
    "execution_start": 1670614549479,
    "execution_millis": 686,
    "deepnote_to_be_reexecuted": false,
    "deepnote_cell_type": "code"
   },
   "outputs": [
    {
     "name": "stdout",
     "text": "Heatmap of Correlations:\n",
     "output_type": "stream"
    },
    {
     "data": {
      "text/plain": "<Figure size 900x900 with 2 Axes>",
      "image/png": "[encoded data removed]"
     },
     "metadata": {
      "image/png": {
       "width": 714,
       "height": 822
      }
     },
     "output_type": "display_data"
    }
   ],
   "execution_count": 9
  },
  {
   "cell_type": "markdown",
   "source": [
    "<font size=4 color=#009999> 2.4. Features Selection </font> <br>\n",
    "\n",
    "<b>Establish</b> a feature selection strategy and store the feature names in a list. \n",
    "\n",
    "N.B. Selection of the $n$ first correlated features and/or setting of a correlation threshold or any other rule. <br>Furthermore, investigate on <i>redundant</i> features which can be removed as well.</span> "
   ],
   "metadata": {
    "cell_id": "6e541a6d060546a1bb91c11b9efb841a",
    "deepnote_cell_type": "markdown"
   }
  },
  {
   "cell_type": "markdown",
   "source": [
    "<div class=\"alert alert-warning\">\n",
    "    <b>[Question 2.4]</b> Explain your selection strategy. \n",
    "    Is it appropriate to use the correlation matrix to select (or not) cyclical features?\n",
    "</div> "
   ],
   "metadata": {
    "cell_id": "9659914c571b4baf94ad11d8b460df50",
    "deepnote_cell_type": "markdown"
   }
  },
  {
   "cell_type": "code",
   "source": [
    "\"\"\"\n",
    "CELL N°6 : Features selection \n",
    "   \n",
    "@pre:  data_train's correlation matrix: correl_mat (see CELL  N°5)\n",
    "@post: a list 'feature_names' with the names of the selected features, display of each explanatory feature vs. binary target\n",
    "\"\"\"\n",
    "\n",
    "#############################\n",
    "# Start : Only for the TA's\n",
    "#############################\n",
    "\n",
    "# @toDo (implement your feature selection rule)\n",
    "def select_feature(dataFrame, n):\n",
    "    out = dataFrame[dataFrame.corrwith(dataFrame[\"AQI_binary\"]).abs().nlargest(n+1).drop(\"AQI_binary\").keys()]\n",
    "    return out\n",
    "    \n",
    "\n",
    "features = select_feature(df_train, 3)\n",
    "feature_names = features.columns\n",
    "\n",
    "print(f'Auto selected features: {feature_names.values}')\n",
    "\n",
    "# Ici, nous avons retiré les features de temporalité car elles sont peu corrélées; normal elles sont sous la forme d'un sinus/cosinus.\n",
    "# Cependant, une selection plus \"approfondie\" aurait pu capturer des relations qui ne sont pas uniquement linéaires.\n",
    "\n",
    "##########################\n",
    "# End : Only for the TA's\n",
    "########################"
   ],
   "metadata": {
    "cell_id": "f8437f16c9304acca592bea35e957c02",
    "source_hash": "7d2b17fa",
    "execution_start": 1670614550167,
    "execution_millis": 8,
    "deepnote_to_be_reexecuted": false,
    "deepnote_cell_type": "code"
   },
   "outputs": [
    {
     "name": "stdout",
     "text": "Auto selected features: ['PM2_5' 'PM10' 'NOx']\n",
     "output_type": "stream"
    }
   ],
   "execution_count": 10
  },
  {
   "cell_type": "markdown",
   "source": [
    "<font size=4 color=#009999> <br> 2.5 Data scaling and normalization</font> <br> \n",
    "\n",
    "__Split__ your _training_ and _test_ sets into their respective features set  (X)  and a binary target variable (y). __Standardize__ or __Normalize__ the features sets. \n",
    "\n",
    "\n",
    "__Remark 1.__ The scaler object, used to scale the <i>training set</i>, should also be the one used on the <i>test set</i>! Again, do no reinvent the wheel!  \n"
   ],
   "metadata": {
    "cell_id": "4975b32cec0944afb8f2024dff44c3fc",
    "deepnote_cell_type": "markdown"
   }
  },
  {
   "cell_type": "markdown",
   "source": [
    "<div class=\"alert alert-warning\">\n",
    "    <b>[Question 2.5]</b>  Why do we scale data? Justify properly, whether it is necessary or not for your feature set (X) and which scaler did you use.\n",
    "</div> "
   ],
   "metadata": {
    "cell_id": "2fba3363b70841b1980facad47de664a",
    "deepnote_cell_type": "markdown"
   }
  },
  {
   "cell_type": "code",
   "source": [
    "\"\"\"\n",
    "CELL N°7 : Data fill-in & scaling\n",
    "   \n",
    "@pre: train and test dataframes and the list 'feature_names' of columns to keep    \n",
    "@post:  X_train: numpy array, with (scaled) selected features, containing training data\n",
    "        X_test: numpy array, with (scaled) selected features, containing testing data. \n",
    "                The scaling should be done using the statistic of the train set.\n",
    "\"\"\"\n",
    "\n",
    "from sklearn.preprocessing import StandardScaler, MinMaxScaler\n",
    "\n",
    "## filling the rest of missing-values (not much) with median value\n",
    "for col in feature_names:\n",
    "    med_col = df_train[col].median()\n",
    "    df_train[col] = df_train[col].fillna(med_col)\n",
    "    df_test[col] = df_test[col].fillna(med_col)\n",
    "\n",
    "## Keeping only the selected features\n",
    "X_train = df_train[feature_names]\n",
    "X_test = df_test[feature_names]\n",
    "y_train = df_train[[\"AQI_binary\"]].values\n",
    "y_test = df_test[[\"AQI_binary\"]].values\n",
    "\n",
    "#############################\n",
    "# Start : \n",
    "#############################\n",
    "\n",
    "scaler = MinMaxScaler().fit(X_train)\n",
    "X_train = scaler.transform(X_train)\n",
    "X_test = scaler.transform(X_test)\n",
    "\n",
    "\n",
    "##########################\n",
    "# End : \n",
    "#########################"
   ],
   "metadata": {
    "cell_id": "a60889fcd2d54470a029ad2967de6510",
    "source_hash": "ef724815",
    "execution_start": 1670614550177,
    "execution_millis": 21,
    "deepnote_to_be_reexecuted": false,
    "deepnote_cell_type": "code"
   },
   "outputs": [],
   "execution_count": 11
  },
  {
   "cell_type": "markdown",
   "source": [
    "<font size=4 color=#009999>  </font> <br>\n",
    "\n",
    "<br><font size=7 color=#009999> <b>PART 3 - MODEL SELECTION </b> </font> <br><br>\n",
    "\n",
    "\n",
    "Let us first build some tools that will help us to choose among our investigated models together with their (hyper-)parameters which one performs the best. "
   ],
   "metadata": {
    "cell_id": "507f1c0afba54b87ad7221d218dbc88c",
    "deepnote_cell_type": "markdown"
   }
  },
  {
   "cell_type": "markdown",
   "source": [
    "<font size=4 color=#009999> <br> 3.1. PRECISION, RECALL AND F1 SCORE </font> <br>\n",
    "\n",
    "**Implement** the _precision, recall_ and _F-measure_ metrics based on the confusion matrix. Please follow the specifications in the provided template.  <br>\n",
    "\n",
    "**Reminder**\n",
    "\n",
    "$F_1$ is a performance score allowing to obtain some trade-off between the precision and recall criterions. It can be computed as follows:\n",
    "$$F_1 = 2~\\frac{\\mathrm{precision} \\cdot \\mathrm{recall}}{\\mathrm{precision} + \\mathrm{recall}}.$$\n",
    "\n",
    "Please consult, [Wikipedia](https://en.wikipedia.org/wiki/F-score) for further information about the metric.\n",
    "\n",
    "**NOTE**: if ever the model you built would be terribly <i>bad</i>, with both precision's and recall's value equal to $0$, we suggest to return $0$ as $F_1$ score. "
   ],
   "metadata": {
    "cell_id": "fa885641402d4bdda16a18381121c156",
    "deepnote_cell_type": "markdown"
   }
  },
  {
   "cell_type": "code",
   "source": [
    "\"\"\"\n",
    "CELL N°9 : Implementation of precision, recall & F1 scores\n",
    "\n",
    "@pre:  /  \n",
    "@post: Follow the specifications to implement precision, recall and probas_to_F1 functions. \n",
    "\"\"\"\n",
    "from sklearn.metrics import confusion_matrix\n",
    "\n",
    "\"\"\" -----------------------------------------------------------------------------------------\n",
    "Converts a vector of real probability values to a binary 0 or 1 \n",
    "@pre: \n",
    "    - proba_vec: vector with real values representing each a probability that the air quality is good.\n",
    "    - threshold : a threshold probability (between 0 and 1) to determine if a given air is good (1) or not (0)\n",
    "@post:\n",
    "    - predicted_labels: binary prediction vector, with elements being 0 or 1.\n",
    "----------------------------------------------------------------------------------------- \"\"\"\n",
    "\n",
    "\n",
    "def pred_probas_to_pred_labels(proba_vec, threshold=0.5):\n",
    "    return np.where(proba_vec <= threshold, 0, 1)\n",
    "\n",
    "\n",
    "\"\"\" -----------------------------------------------------------------------------------------\n",
    "Based on the confusion matrix, computes the 'precision'\n",
    "@pre: \n",
    "    - cm : confusion_matrix of a binary classification\n",
    "@post:\n",
    "    - score: precision (or positive predictive value), associated with cm\n",
    "----------------------------------------------------------------------------------------- \"\"\"\n",
    "\n",
    "\n",
    "def precision(cm):\n",
    "    tn, fp, fn, tp = cm.ravel()\n",
    "    ###########################\n",
    "    # Start :\n",
    "    ###########################\n",
    "    # @rewrite\n",
    "    ppv = tp / (tp + fp)\n",
    "    ###########################\n",
    "    # End : \n",
    "    ###########################\n",
    "\n",
    "    return ppv\n",
    "\n",
    "\n",
    "\"\"\" -----------------------------------------------------------------------------------------\n",
    "Based on the confusion matrix, computes the 'recall'\n",
    "@pre: \n",
    "    - cm : confusion_matrix of a binary classification  \n",
    "@post:\n",
    "    - r: recall (or true positive rate), associated with cm\n",
    "----------------------------------------------------------------------------------------- \"\"\"\n",
    "\n",
    "\n",
    "def recall(cm):\n",
    "    tn, fp, fn, tp = cm.ravel()\n",
    "    ###########################\n",
    "    # Start : \n",
    "    ###########################\n",
    "    # @rewrite\n",
    "    tpr = tp / (tp + fn)\n",
    "    ###########################\n",
    "    # End : \n",
    "    ###########################\n",
    "    return tpr\n",
    "\n",
    "\n",
    "\"\"\" -----------------------------------------------------------------------------------------\n",
    "Evaluates the F1 score which is a harmonic mean of the precision and recall\n",
    "@pre: \n",
    "    - y_true: vectors of 0 and 1 representing the real class values\n",
    "    - y_pred: vectors of real values representing predicted probability of the air being good ('1')\n",
    "    - output:  'F1' means that the output should only be the F1 score. \n",
    "               'PRF1' means that the output is a tuple with (precision, recall, F1)\n",
    "               'F1' is the default value\n",
    "    - threshold: a threshold probability (between 0 and 1) to determine if the air is good ('1') or not ('0')\n",
    "@post:\n",
    "    - F1_score: harmonic mean of the precision and recall\n",
    "    - If asked in argument, precision and recall can be added in the output: (precision, recall, F1)\n",
    "----------------------------------------------------------------------------------------- \"\"\"\n",
    "\n",
    "\n",
    "def probas_to_F1(y_true, y_pred, output=\"F1\", threshold=0.5):\n",
    "    y_pred = pred_probas_to_pred_labels(y_pred, threshold)\n",
    "\n",
    "    ###########################\n",
    "    # Start : \n",
    "    ###########################\n",
    "    # @rewrite \n",
    "    cm = confusion_matrix(y_true, y_pred)\n",
    "    tpr = recall(cm)\n",
    "    ppv = precision(cm)\n",
    "    F1_score = (2*(ppv*tpr)) / (ppv + tpr)\n",
    "\n",
    "    if output == \"PRF1\":\n",
    "        return (ppv, tpr, F1_score)\n",
    "\n",
    "    ###########################\n",
    "    # End : \n",
    "    ###########################\n",
    "\n",
    "    return F1_score"
   ],
   "metadata": {
    "tags": [],
    "cell_id": "fd6d52be4c2540369f6ba52590c6eba3",
    "source_hash": "1bccac18",
    "execution_start": 1670614550210,
    "execution_millis": 2,
    "deepnote_to_be_reexecuted": false,
    "deepnote_cell_type": "code"
   },
   "outputs": [],
   "execution_count": 12
  },
  {
   "cell_type": "markdown",
   "source": [
    "<font size=4 color=#009999> <br> 3.2. MODEL EVALUATION  </font> <br>\n",
    "\n",
    "**Implement** `evalParam`, which evaluates, using a __k-fold__ cross-validation, a list of `scikit-learn` models. Use your method `probas_to_F1` as score function. The function `evalParam` must be  **scalable**. Put differently, it must handle $m$ methods, and a variable list of their possible parameters configuration. \n",
    "\n",
    "\n",
    "In addition of the list of _models_ (methods) and their list of _hyperparameters_ (param), the function takes as arguments the _features set_ (X), _target variable_ (y) and _the number of folds_ (cv). \n",
    "\n",
    "It returns an array _score_ such that <br>\n",
    "\n",
    "$$score[i][j] = average F1 over the folds, using method _i_ with parameters configuration j.$$\n",
    "\n",
    "To help you, here is a pseudo code of K-fold for one method and one configuration of hyperparameters. \n",
    "\n",
    "<img src=\"K-fold_pseudo-code.png\" width = \"650\">\n",
    " \n",
    "__Remark 1.__ You have to implement a K-fold cross-validation. You are only allowed to use `KFold.splits(dataset)` from `sklearn.model_selection` to generate the indices of your different folds. \n"
   ],
   "metadata": {
    "cell_id": "edff511489aa42ae9bdd16cd382ccbd0",
    "deepnote_cell_type": "markdown"
   }
  },
  {
   "cell_type": "markdown",
   "source": [
    "<div class=\"alert alert-warning\">\n",
    "    <b>[Question 3.1]</b>\n",
    "    Explain the idea of K-fold cross-validation and why it is useful. How the choice of K (in the cross-validation) impacts the bias and the variance of the scores obtained on the different folds? Choose and justify the number of folds you consider in this project. \n",
    "</div> "
   ],
   "metadata": {
    "cell_id": "41148316fa744902b77e44def77d721c",
    "deepnote_cell_type": "markdown"
   }
  },
  {
   "cell_type": "code",
   "source": [
    "\"\"\"\n",
    "CELL N°10 : Evaluates the methods using different parameters via a K-folds with cv folds\n",
    "\n",
    "@pre: \n",
    "    - methods: list of classifiers to analyze\n",
    "    - param: list of size len(methods) containing lists of parameters (in dictionary form) to evaluate.\n",
    "             In other words, param[i][j] is a dictionary of parmeters.\n",
    "             For example if index i is for KNN, we can have a parameter configuration (with index j) described as\n",
    "                 param[i][j] = {\"n_neigbors\":5, \"weights\": 'uniform'}; \n",
    "                 while param[i] is a list of such parameters dictionnaries for model i (here KNN)\n",
    "    - X: training dataset\n",
    "    - y: target vector for the corresponding entries of X\n",
    "    - cv: the number of folds to use in your cross-validation\n",
    "@post:\n",
    "    - score: list with same shape as param. score[i][j] = mean score over the folds, \n",
    "                                                         using method i with parameters param[i][j]\n",
    "------------------------------------------------------------------------------------------------ \"\"\"\n",
    "from sklearn.model_selection import KFold\n",
    "\n",
    "\n",
    "def evalParam(methods, param, X, y, cv):\n",
    "    #############################\n",
    "    # Start : \n",
    "    #############################\n",
    "\n",
    "    score = []\n",
    "    X_arr = np.array(X)\n",
    "    y_arr = np.array(y)\n",
    "    \n",
    "    \n",
    "    for i in range(len(methods)):\n",
    "        score.append(np.zeros(len(param[i])))\n",
    "\n",
    "    # @rewrite\n",
    "    kf = KFold(n_splits=cv, shuffle=True, random_state=1)\n",
    "    \n",
    "    total = len([1 for a in param for _ in a]) * cv\n",
    "    done = 0\n",
    "\n",
    "    for train_index, val_index in kf.split(X):\n",
    "        X_train, X_test = X_arr[train_index], X_arr[val_index]\n",
    "        y_train, y_test = y_arr[train_index], y_arr[val_index]\n",
    "        for i, method in enumerate(methods):\n",
    "            for j, p in enumerate(param[i]):\n",
    "                method.set_params(**p)\n",
    "                done += 1\n",
    "                \n",
    "                method.fit(X_train, y_train)\n",
    "                \n",
    "                y_pred = method.predict(X_test)\n",
    "                \n",
    "                y_pred[y_pred <= 0.5] = 0\n",
    "                y_pred[y_pred > 0.5] = 1\n",
    "\n",
    "                score[i][j] += probas_to_F1(y_pred, y_test[:, 0]) / cv\n",
    "                \n",
    "                print(f'{done}/{total} ({done/total:.2%})', end='\\r')\n",
    "    ##########################\n",
    "    # End : \n",
    "    ########################\n",
    "    return score\n",
    "\n",
    "# \"\"\" -----------------------------------------------------------------------------------------\n",
    "# Evaluates the quality of y_pred knowing real values y_real as ||y_pred-y_real||/||y_real||\n",
    "# INPUT: \n",
    "#     - y_pred: predicted objective\n",
    "#     - y_real: real objective\n",
    "# OUTPUT:\n",
    "#     - score: quality of the prediction: ||y_pred-y_real||/||y_real||\n",
    "# ----------------------------------------------------------------------------------------- \"\"\""
   ],
   "metadata": {
    "cell_id": "68a7834b635647eb978d69ed9358dd3d",
    "source_hash": "443f271a",
    "execution_start": 1670614550220,
    "execution_millis": 98770,
    "deepnote_to_be_reexecuted": false,
    "deepnote_cell_type": "code"
   },
   "outputs": [],
   "execution_count": 13
  },
  {
   "cell_type": "markdown",
   "source": [
    "<font size=4 color=#009999> <br> 3.3. MODEL SELECTION AND PARAMETERS TUNING </font> <br>\n",
    "\n",
    "__Run__ your function `evalParam` to evaluate the three following models : [_linear regression_](https://scikit-learn.org/stable/modules/generated/sklearn.linear_model.LinearRegression.html#sklearn.linear_model.LinearRegression), [_logistic regression_](https://scikit-learn.org/stable/modules/generated/sklearn.linear_model.LogisticRegression.html) and [_K nearest neighbors_](https://scikit-learn.org/stable/modules/generated/sklearn.neighbors.KNeighborsClassifier.html). <br>These models are already implemented in sklearn. <br>\n",
    "\n",
    "**Study** the effect of the following hyperparameters:\n",
    "- `n_neighbors` in KNN (try selected values between 1 and 100),\n",
    "- `weights` in KNN (try both values 'uniform' and 'distance')\n",
    "- `p` in KNN (try euclidean (p=2), manhattan (p=1) and minkowski-100 (more or less equivalent to max-norm))\n",
    "- `C` in logistic regression (try selected values between $10^{-3}$ and $10^3$)</li>\n",
    "\n",
    "\n",
    "<div class=\"alert alert-warning\">\n",
    "    <b>[Question you should ask yourself]</b> (Not graded) Prior to the run, discuss the fitness of each model to answer to our problem. \n",
    "</div> \n",
    "\n",
    "<div class=\"alert alert-warning\">\n",
    "    <b>[Question 3.2]</b> Explain your methodology of model evaluation. More precisely, explain which hyperparameters you tune and the values you test for each of them. Next, provide the best hyperparameters configuration for each of the three models as well as their CV F1 score.\n",
    "</div>\n"
   ],
   "metadata": {
    "cell_id": "90a504041cf841b1856b978fdef0f109",
    "deepnote_cell_type": "markdown"
   }
  },
  {
   "cell_type": "code",
   "source": [
    "\"\"\"\n",
    "CELL N°11 : Model selection - tuning the three methods\n",
    "   \n",
    "@pre: evalParam function correctly implemented    \n",
    "@post:  three models (knn, linear and logistic regression) initialized with tuned hyperparameters.\n",
    "        print the best hyperparameters found, as well as their CV F1 scores associated with these hyperparameters.\n",
    "------------------------------------------------------------------------------------------------ \"\"\"\n",
    "\n",
    "from sklearn.linear_model import LinearRegression\n",
    "from sklearn.linear_model import LogisticRegression\n",
    "from sklearn.neighbors import KNeighborsClassifier\n",
    "\n",
    "#############################\n",
    "# Start : \n",
    "#############################\n",
    "\n",
    "# @rewrite\n",
    "linreg = LinearRegression()\n",
    "logreg = LogisticRegression()\n",
    "KNN = KNeighborsClassifier()\n",
    "methods = [linreg, logreg, KNN]\n",
    "paramLR = [{}]  # no tuning to do for linreg but we put a default parameters here too\n",
    "paramLgR = [{\"C\":10**i} for i in range(-3, 4)]\n",
    "paramKNN = [\n",
    "    {'n_neighbors': n_neighbors, 'weights': weights, 'p': p}\n",
    "    for n_neighbors in [1, 5, 10, 25, 50, 75, 100]\n",
    "    for weights in ['uniform', 'distance']\n",
    "    for p in [1, 2, 100]\n",
    "]\n",
    "param = [paramLR, paramLgR, paramKNN]\n",
    "cv = 10\n",
    "\n",
    "##########################\n",
    "# End : \n",
    "########################\n",
    "\n",
    "print(' ')\n",
    "\n",
    "#############################\n",
    "# Start : \n",
    "#############################\n",
    "\n",
    "cv_scores = evalParam(methods, param, X_train, y_train, cv)"
   ],
   "metadata": {
    "cell_id": "eafe921e9d3644afba29fd2047eb8ae7",
    "scrolled": false,
    "source_hash": "196a4f61",
    "execution_start": 1670614550228,
    "execution_millis": 71068,
    "deepnote_to_be_reexecuted": false,
    "deepnote_cell_type": "code"
   },
   "outputs": [
    {
     "name": "stdout",
     "text": " \n",
     "output_type": "stream"
    }
   ],
   "execution_count": 14
  },
  {
   "cell_type": "code",
   "source": [
    "\"\"\"\n",
    "CELL N°11 (bis) : Model selection - finding the best hyperparameters\n",
    "\"\"\"\n",
    "LRbest = np.nanargmax(cv_scores[0])\n",
    "LGbest = np.nanargmax(cv_scores[1])\n",
    "KNNbest = np.nanargmax(cv_scores[2])\n",
    "print(paramLR[LRbest], \"with score {0:.4f} for LR\".format(cv_scores[0][LRbest]))\n",
    "print(paramLgR[LGbest], \"with score {0:.4f} for LgR\".format(cv_scores[1][LGbest]))\n",
    "print(paramKNN[KNNbest], \"with score {0:.4f} for KNN\".format(cv_scores[2][KNNbest]))\n",
    "linreg.set_params(**paramLR[LRbest])\n",
    "logreg.set_params(**paramLgR[LGbest])\n",
    "clf = KNN.set_params(**paramKNN[KNNbest])\n",
    "KNN.set_params(**paramKNN[KNNbest])"
   ],
   "metadata": {
    "tags": [],
    "cell_id": "d630e5f4dd3b496aa75bc4e1ad36488f",
    "source_hash": "1cc01ce6",
    "execution_start": 1670614621300,
    "execution_millis": 8,
    "deepnote_to_be_reexecuted": false,
    "deepnote_cell_type": "code"
   },
   "outputs": [
    {
     "name": "stdout",
     "text": "{} with score 0.7814 for LR\n{'C': 1000} with score 0.9195 for LgR\n{'n_neighbors': 1, 'weights': 'uniform', 'p': 1} with score 0.9862 for KNN\n",
     "output_type": "stream"
    },
    {
     "output_type": "execute_result",
     "execution_count": 15,
     "data": {
      "text/plain": "KNeighborsClassifier(n_neighbors=1, p=1)",
      "text/html": "<style>#sk-container-id-1 {color: black;background-color: white;}#sk-container-id-1 pre{padding: 0;}#sk-container-id-1 div.sk-toggleable {background-color: white;}#sk-container-id-1 label.sk-toggleable__label {cursor: pointer;display: block;width: 100%;margin-bottom: 0;padding: 0.3em;box-sizing: border-box;text-align: center;}#sk-container-id-1 label.sk-toggleable__label-arrow:before {content: \"▸\";float: left;margin-right: 0.25em;color: #696969;}#sk-container-id-1 label.sk-toggleable__label-arrow:hover:before {color: black;}#sk-container-id-1 div.sk-estimator:hover label.sk-toggleable__label-arrow:before {color: black;}#sk-container-id-1 div.sk-toggleable__content {max-height: 0;max-width: 0;overflow: hidden;text-align: left;background-color: #f0f8ff;}#sk-container-id-1 div.sk-toggleable__content pre {margin: 0.2em;color: black;border-radius: 0.25em;background-color: #f0f8ff;}#sk-container-id-1 input.sk-toggleable__control:checked~div.sk-toggleable__content {max-height: 200px;max-width: 100%;overflow: auto;}#sk-container-id-1 input.sk-toggleable__control:checked~label.sk-toggleable__label-arrow:before {content: \"▾\";}#sk-container-id-1 div.sk-estimator input.sk-toggleable__control:checked~label.sk-toggleable__label {background-color: #d4ebff;}#sk-container-id-1 div.sk-label input.sk-toggleable__control:checked~label.sk-toggleable__label {background-color: #d4ebff;}#sk-container-id-1 input.sk-hidden--visually {border: 0;clip: rect(1px 1px 1px 1px);clip: rect(1px, 1px, 1px, 1px);height: 1px;margin: -1px;overflow: hidden;padding: 0;position: absolute;width: 1px;}#sk-container-id-1 div.sk-estimator {font-family: monospace;background-color: #f0f8ff;border: 1px dotted black;border-radius: 0.25em;box-sizing: border-box;margin-bottom: 0.5em;}#sk-container-id-1 div.sk-estimator:hover {background-color: #d4ebff;}#sk-container-id-1 div.sk-parallel-item::after {content: \"\";width: 100%;border-bottom: 1px solid gray;flex-grow: 1;}#sk-container-id-1 div.sk-label:hover label.sk-toggleable__label {background-color: #d4ebff;}#sk-container-id-1 div.sk-serial::before {content: \"\";position: absolute;border-left: 1px solid gray;box-sizing: border-box;top: 0;bottom: 0;left: 50%;z-index: 0;}#sk-container-id-1 div.sk-serial {display: flex;flex-direction: column;align-items: center;background-color: white;padding-right: 0.2em;padding-left: 0.2em;position: relative;}#sk-container-id-1 div.sk-item {position: relative;z-index: 1;}#sk-container-id-1 div.sk-parallel {display: flex;align-items: stretch;justify-content: center;background-color: white;position: relative;}#sk-container-id-1 div.sk-item::before, #sk-container-id-1 div.sk-parallel-item::before {content: \"\";position: absolute;border-left: 1px solid gray;box-sizing: border-box;top: 0;bottom: 0;left: 50%;z-index: -1;}#sk-container-id-1 div.sk-parallel-item {display: flex;flex-direction: column;z-index: 1;position: relative;background-color: white;}#sk-container-id-1 div.sk-parallel-item:first-child::after {align-self: flex-end;width: 50%;}#sk-container-id-1 div.sk-parallel-item:last-child::after {align-self: flex-start;width: 50%;}#sk-container-id-1 div.sk-parallel-item:only-child::after {width: 0;}#sk-container-id-1 div.sk-dashed-wrapped {border: 1px dashed gray;margin: 0 0.4em 0.5em 0.4em;box-sizing: border-box;padding-bottom: 0.4em;background-color: white;}#sk-container-id-1 div.sk-label label {font-family: monospace;font-weight: bold;display: inline-block;line-height: 1.2em;}#sk-container-id-1 div.sk-label-container {text-align: center;}#sk-container-id-1 div.sk-container {/* jupyter's `normalize.less` sets `[hidden] { display: none; }` but bootstrap.min.css set `[hidden] { display: none !important; }` so we also need the `!important` here to be able to override the default hidden behavior on the sphinx rendered scikit-learn.org. See: https://github.com/scikit-learn/scikit-learn/issues/21755 */display: inline-block !important;position: relative;}#sk-container-id-1 div.sk-text-repr-fallback {display: none;}</style><div id=\"sk-container-id-1\" class=\"sk-top-container\"><div class=\"sk-text-repr-fallback\"><pre>KNeighborsClassifier(n_neighbors=1, p=1)</pre><b>In a Jupyter environment, please rerun this cell to show the HTML representation or trust the notebook. <br />On GitHub, the HTML representation is unable to render, please try loading this page with nbviewer.org.</b></div><div class=\"sk-container\" hidden><div class=\"sk-item\"><div class=\"sk-estimator sk-toggleable\"><input class=\"sk-toggleable__control sk-hidden--visually\" id=\"sk-estimator-id-1\" type=\"checkbox\" checked><label for=\"sk-estimator-id-1\" class=\"sk-toggleable__label sk-toggleable__label-arrow\">KNeighborsClassifier</label><div class=\"sk-toggleable__content\"><pre>KNeighborsClassifier(n_neighbors=1, p=1)</pre></div></div></div></div></div>"
     },
     "metadata": {}
    }
   ],
   "execution_count": 15
  },
  {
   "cell_type": "markdown",
   "source": [
    "<div class=\"alert alert-warning\">\n",
    "    <b>[Question 3.3]</b> Based on your answers to previous questions, select a final model that you will keep as classifier. Justify.\n",
    "</div> "
   ],
   "metadata": {
    "cell_id": "bc1e08c2659442f3bcf47cbd72420cb2",
    "deepnote_cell_type": "markdown"
   }
  },
  {
   "cell_type": "markdown",
   "source": [
    "<font size=4 color=#009999> <br> 3.4. Precision, Recall and thresholding </font> <br>\n",
    "\n",
    "In general, the classifying models compute first the probability for a point to belong to a certain class. Next, they applies a threshold to assign the final label (bad or good). By default, `scikit-learn` applies a threshold of 0.5 for KNN and logistic regression. You can use the function `predict_proba` to obtain the original probabilities. <br>\n",
    "For analyzing the impact of the threshold on the precision and recall of a model, we generally plot its precision-recall curve. Specific functions in sklearn help doing that plot (see [sklearn documentation](https://scikit-learn.org/stable/auto_examples/model_selection/plot_precision_recall.html)). <br>\n",
    "Here we only ask you theoretical questions, so we don't expect any plot from you, but feel free to create some for your own reflection and to help you answering correctly.\n",
    "\n",
    "<div class=\"alert alert-warning\">\n",
    "    <b>[Question 3.4]</b> What happens to the precision and recall (of any method) when the threshold tends to 0? And when it tends to 1? Explain and, if possible, establish a link with Question 2.1.\n",
    "</div>\n",
    "\n",
    "<div class=\"alert alert-warning\">\n",
    "    <b>[Question 3.5]</b> \n",
    "    Explain which precision/recall trade-off you prefer to have for the specific task asked in this hackathon: determining whether air quality is good based on some concentrations. How should you adjust the threshold of your model to bring it closer to the desired trade-off? Should it be above or below the default threshold value of 0.5? <br>\n",
    "    <b> Note: </b> In the next section, we will keep considering the default threshold value of 0.5.\n",
    "</div>\n"
   ],
   "metadata": {
    "cell_id": "4f68e0db59fc490d9f349d9882477c8a",
    "deepnote_cell_type": "markdown"
   }
  },
  {
   "cell_type": "code",
   "source": [
    "\"\"\"\n",
    "TEST CELL N°12 : PRECISION-RECALL CURVES\n",
    "   \n",
    "@pre: the three models (knn, linear and logistic regression) initialized with their tuned hyperparameters.  \n",
    "@post: a figure with the precision-recall curves for the three given models and also for a simple baseline classifier, \n",
    "        applied on a validation set containing 10% of the training set.\n",
    "------------------------------------------------------------------------------------------------ \"\"\"\n",
    "\n",
    "from sklearn.metrics import precision_recall_curve\n",
    "from sklearn.metrics import auc\n",
    "from sklearn.model_selection import train_test_split\n",
    "\n",
    "# Validation set to use for the PR curves\n",
    "X_train2, X_val = train_test_split(X_train, test_size=0.1, random_state=42)\n",
    "y_train2, y_val = train_test_split(y_train, test_size=0.1, random_state=42)\n",
    "\n",
    "#############################\n",
    "# Start : just a few lines asked\n",
    "#############################\n",
    "\n",
    "# Training the tuned models\n",
    "linreg.fit(X_train2, y_train2)\n",
    "y_scoreLR = linreg.predict(X_val)\n",
    "\n",
    "# @rewrite (linreg -> logreg, linreg -> knn)\n",
    "linreg.fit(X_train2, y_train2)\n",
    "y_scoreLogR = logreg.predict(X_val)\n",
    "\n",
    "linreg.fit(X_train2, y_train2)\n",
    "y_scoreKNN = KNN.predict(X_val)\n",
    "\n",
    "# Computing the precision, recall and threshold for each model\n",
    "precisionLR, recallLR, thresholdsLR = precision_recall_curve(y_val, y_scoreLR)\n",
    "pr_aucLR = auc(recallLR, precisionLR)\n",
    "\n",
    "precisionLogR, recallLogR, thresholdsLogR = precision_recall_curve(y_val, y_scoreLogR)\n",
    "pr_aucLogR = auc(recallLogR, precisionLogR)\n",
    "\n",
    "precisionKNN, recallKNN, thresholdsKNN = precision_recall_curve(y_val, y_scoreKNN)\n",
    "pr_aucKNN = auc(recallKNN, precisionKNN)\n",
    "\n",
    "# Plotting the precision-recall curves\n",
    "plt.figure(figsize=(15, 5))\n",
    "plt.plot(\n",
    "    recallLR,\n",
    "    precisionLR,\n",
    "    color=\"darkorange\",\n",
    "    lw=2,\n",
    "    label=\"LR (area = %0.3f)\" % pr_aucLR,\n",
    ")\n",
    "plt.plot(\n",
    "    recallLogR,\n",
    "    precisionLogR,\n",
    "    color=\"darkgreen\",\n",
    "    lw=2,\n",
    "    label=\"LogR (area = %0.3f)\" % pr_aucLogR,\n",
    ")\n",
    "plt.plot(\n",
    "    recallKNN, precisionKNN, color=\"red\", lw=2, label=\"KNN (area = %0.3f)\" % pr_aucKNN\n",
    ")\n",
    "\n",
    "plt.plot(\n",
    "    [0, 1],\n",
    "    [0.66, 0.66],\n",
    "    color=\"navy\",\n",
    "    lw=2,\n",
    "    linestyle=\"--\",\n",
    "    label=\"constant pred (area = 0.66)\",\n",
    ")\n",
    "plt.xlim([0.0, 1.0])\n",
    "plt.ylim([0.4, 1.05])\n",
    "plt.xlabel(\"Recall\")\n",
    "plt.ylabel(\"Precision\")\n",
    "plt.title(\"Precision - Recall curve\")\n",
    "plt.legend(loc=\"lower right\")\n",
    "plt.show()\n",
    "\n",
    "#########################\n",
    "# End : Only for the TA'\n",
    "########################"
   ],
   "metadata": {
    "cell_id": "a871422ad7d84785a6504756a18c3800",
    "source_hash": "45dd9ad0",
    "execution_start": 1670614621314,
    "execution_millis": 411,
    "deepnote_to_be_reexecuted": false,
    "deepnote_cell_type": "code"
   },
   "outputs": [
    {
     "data": {
      "text/plain": "<Figure size 1500x500 with 1 Axes>",
      "image/png": "[encoded data removed]"
     },
     "metadata": {
      "image/png": {
       "width": 1244,
       "height": 470
      }
     },
     "output_type": "display_data"
    }
   ],
   "execution_count": 16
  },
  {
   "cell_type": "markdown",
   "source": [
    "<br>\n",
    "\n",
    "<br><font size=7 color=#009999> <b>PART 4 - MODEL TESTING </b> </font> <br><br>\n",
    "\n",
    "<div class=\"alert alert-warning\">\n",
    "    <b>[Question 4.1]</b> Use the test set to estimate the precision, recall and F1 score of your final model and validate its performance on unseen data. <br> Observe if the scores are similar to the ones estimated with your cross-validation.\n",
    "        Are you satisfied by the performance of your classifier, in view of the task for which it will be used?\n",
    "\n",
    "</div> \n"
   ],
   "metadata": {
    "cell_id": "a406cd3e0f454750a9a0cbd02a5e4fa3",
    "deepnote_cell_type": "markdown"
   }
  },
  {
   "cell_type": "code",
   "source": [
    "\"\"\"\n",
    "CELL N°10 : MODEL TESTING\n",
    "   \n",
    "@pre:   clf is your selected classifier\n",
    "        X_test is the numpy array containing the test set (with your selected features)\n",
    "        y_test is the numpy array contaning your binary target vector\n",
    "@post:  print the F1, precision and recall on the test set.\n",
    "------------------------------------------------------------------------------------------------ \"\"\"\n",
    "from sklearn.metrics import precision_score\n",
    "from sklearn.metrics import recall_score\n",
    "from sklearn.metrics import f1_score\n",
    "\n",
    "#############################\n",
    "# Start : \n",
    "#############################\n",
    "\n",
    "# @rewrite\n",
    "StandardScaler().fit(X_train)\n",
    "clf.fit(X_train, y_train)\n",
    "\n",
    "\n",
    "y_pred = clf.predict(X_test)\n",
    "\n",
    "\n",
    "F1 = f1_score(y_true=y_test, y_pred=y_pred, average='binary')\n",
    "prec = precision_score(y_true=y_test, y_pred=y_pred, average='binary')\n",
    "rec = recall_score(y_true=y_test, y_pred=y_pred, average='binary')\n",
    "\n",
    "# prints\n",
    "print(\"--------- For our tuned KNN ---------\")\n",
    "print(f\"F1 score: {F1:2.2%}\")\n",
    "print(f\"Precision function: {prec:2.2%}\")\n",
    "print(f\"Recall function: {rec:2.2%}\")\n",
    "\n",
    "##########################\n",
    "# End : \n",
    "########################"
   ],
   "metadata": {
    "cell_id": "cd8a93841be543acbc63b392a489975d",
    "source_hash": "d11e1d0",
    "execution_start": 1670614621728,
    "execution_millis": 245,
    "deepnote_to_be_reexecuted": false,
    "deepnote_cell_type": "code"
   },
   "outputs": [
    {
     "name": "stdout",
     "text": "--------- For our tuned KNN ---------\nF1 score: 98.56%\nPrecision function: 98.59%\nRecall function: 98.53%\n",
     "output_type": "stream"
    }
   ],
   "execution_count": 17
  },
  {
   "cell_type": "markdown",
   "source": [
    "<a style='text-decoration:none;line-height:16px;display:flex;color:#5B5B62;padding:10px;justify-content:end;' href='https://deepnote.com?utm_source=created-in-deepnote-cell&projectId=a8215278-25ef-47b2-81d3-9d295aecf0b6' target=\"_blank\">\n",
    "<img alt='Created in deepnote.com' style='display:inline;max-height:16px;margin:0px;margin-right:7.5px;' src='data:image/svg+xml;base64,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' > </img>\n",
    "Created in <span style='font-weight:600;margin-left:4px;'>Deepnote</span></a>"
   ],
   "metadata": {
    "tags": [],
    "created_in_deepnote_cell": true,
    "deepnote_cell_type": "markdown"
   }
  }
 ],
 "nbformat": 4,
 "nbformat_minor": 0,
 "metadata": {
  "deepnote": {},
  "kernelspec": {
   "name": "python3",
   "language": "python",
   "display_name": "Python 3 (ipykernel)"
  },
  "language_info": {
   "name": "python",
   "version": "3.9.7",
   "mimetype": "text/x-python",
   "file_extension": ".py",
   "pygments_lexer": "ipython3",
   "codemirror_mode": {
    "name": "ipython",
    "version": 3
   },
   "nbconvert_exporter": "python"
  },
  "deepnote_notebook_id": "a9e2005563324ed6962ee7fb8a6a0509",
  "deepnote_persisted_session": {
   "createdAt": "2022-12-09T20:03:10.042Z"
  },
  "deepnote_execution_queue": []
 }
}
